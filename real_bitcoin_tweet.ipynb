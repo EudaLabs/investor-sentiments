{
  "cells": [
    {
      "cell_type": "markdown",
      "metadata": {
        "id": "view-in-github",
        "colab_type": "text"
      },
      "source": [
        "<a href=\"https://colab.research.google.com/github/efeecllk/investor-sentiments/blob/main/real_bitcoin_tweet.ipynb\" target=\"_parent\"><img src=\"https://colab.research.google.com/assets/colab-badge.svg\" alt=\"Open In Colab\"/></a>"
      ]
    },
    {
      "cell_type": "code",
      "execution_count": 40,
      "metadata": {
        "colab": {
          "base_uri": "https://localhost:8080/"
        },
        "id": "OALWDlJeLala",
        "outputId": "bcbd648d-ceaa-47fc-a5cb-7cd807a57726"
      },
      "outputs": [
        {
          "output_type": "stream",
          "name": "stdout",
          "text": [
            "Requirement already satisfied: emoji in /usr/local/lib/python3.10/dist-packages (2.14.0)\n"
          ]
        }
      ],
      "source": [
        "!pip install emoji"
      ]
    },
    {
      "cell_type": "code",
      "execution_count": 41,
      "metadata": {
        "id": "hMit6iq0FZUP"
      },
      "outputs": [],
      "source": [
        "import pandas as pd\n",
        "import numpy as np\n",
        "from datetime import datetime, timedelta\n",
        "import matplotlib.pyplot as plt\n",
        "import gensim\n",
        "from sklearn.linear_model import LogisticRegression\n",
        "import pickle\n",
        "import nltk\n",
        "from nltk.corpus import stopwords\n",
        "from nltk.tokenize import word_tokenize\n",
        "from nltk.stem import WordNetLemmatizer\n",
        "import spacy\n",
        "import string\n",
        "import re\n",
        "import emoji\n"
      ]
    },
    {
      "cell_type": "code",
      "execution_count": 42,
      "metadata": {
        "colab": {
          "base_uri": "https://localhost:8080/"
        },
        "id": "hGIeDIZ_K_Ax",
        "outputId": "11c918c6-ceb9-4118-8de4-075e474847d3"
      },
      "outputs": [
        {
          "output_type": "stream",
          "name": "stderr",
          "text": [
            "[nltk_data] Downloading package punkt to /root/nltk_data...\n",
            "[nltk_data]   Package punkt is already up-to-date!\n",
            "[nltk_data] Downloading package punkt_tab to /root/nltk_data...\n",
            "[nltk_data]   Package punkt_tab is already up-to-date!\n",
            "[nltk_data] Downloading package stopwords to /root/nltk_data...\n",
            "[nltk_data]   Package stopwords is already up-to-date!\n",
            "[nltk_data] Downloading package wordnet to /root/nltk_data...\n",
            "[nltk_data]   Package wordnet is already up-to-date!\n",
            "[nltk_data] Downloading package omw-1.4 to /root/nltk_data...\n",
            "[nltk_data]   Package omw-1.4 is already up-to-date!\n"
          ]
        },
        {
          "output_type": "execute_result",
          "data": {
            "text/plain": [
              "True"
            ]
          },
          "metadata": {},
          "execution_count": 42
        }
      ],
      "source": [
        "nltk.download('punkt')\n",
        "nltk.download('punkt_tab')\n",
        "nltk.download('stopwords')\n",
        "nltk.download('wordnet')\n",
        "nltk.download('omw-1.4')"
      ]
    },
    {
      "cell_type": "code",
      "execution_count": 43,
      "metadata": {
        "id": "k87ZjhpKFnbG"
      },
      "outputs": [],
      "source": [
        "# Load Bitcoin Tweet Dataset\n",
        "tweets_df = pd.read_csv('/content/drive/MyDrive/NLP/Bitcoin_tweets.csv', nrows=10000)\n",
        "\n",
        "# Load Bitcoin Price Dataset\n",
        "price_df = pd.read_csv('/content/drive/MyDrive/NLP/bitcoin_2017_to_2023.csv')\n",
        "\n"
      ]
    },
    {
      "cell_type": "code",
      "execution_count": 44,
      "metadata": {
        "colab": {
          "base_uri": "https://localhost:8080/",
          "height": 608
        },
        "id": "LTpbNNqUGI7B",
        "outputId": "145b6ab8-00e5-44f5-f12a-3bdc1ae3a5f7"
      },
      "outputs": [
        {
          "output_type": "execute_result",
          "data": {
            "text/plain": [
              "                                  user_name    user_location  \\\n",
              "0                             DeSota Wilson      Atlanta, GA   \n",
              "1                                  CryptoND              NaN   \n",
              "2                                 Tdlmatias  London, England   \n",
              "3                      Crypto is the future              NaN   \n",
              "4  Alex Kirchmaier 🇦🇹🇸🇪 #FactsSuperspreader           Europa   \n",
              "\n",
              "                                    user_description         user_created  \\\n",
              "0  Biz Consultant, real estate, fintech, startups...  2009-04-26 20:05:09   \n",
              "1  😎 BITCOINLIVE is a Dutch platform aimed at inf...  2019-10-17 20:12:10   \n",
              "2  IM Academy : The best #forex, #SelfEducation, ...  2014-11-10 10:50:37   \n",
              "3  I will post a lot of buying signals for BTC tr...  2019-09-28 16:48:12   \n",
              "4  Co-founder @RENJERJerky | Forbes 30Under30 | I...  2016-02-03 13:15:55   \n",
              "\n",
              "   user_followers  user_friends  user_favourites  user_verified  \\\n",
              "0          8534.0          7605             4838          False   \n",
              "1          6769.0          1532            25483          False   \n",
              "2           128.0           332              924          False   \n",
              "3           625.0           129               14          False   \n",
              "4          1249.0          1472            10482          False   \n",
              "\n",
              "                  date                                               text  \\\n",
              "0  2021-02-10 23:59:04  Blue Ridge Bank shares halted by NYSE after #b...   \n",
              "1  2021-02-10 23:58:48  😎 Today, that's this #Thursday, we will do a \"...   \n",
              "2  2021-02-10 23:54:48  Guys evening, I have read this article about B...   \n",
              "3  2021-02-10 23:54:33  $BTC A big chance in a billion! Price: \\487264...   \n",
              "4  2021-02-10 23:54:06  This network is secured by 9 508 nodes as of t...   \n",
              "\n",
              "                                    hashtags               source  is_retweet  \n",
              "0                                ['bitcoin']      Twitter Web App       False  \n",
              "1  ['Thursday', 'Btc', 'wallet', 'security']  Twitter for Android       False  \n",
              "2                                        NaN      Twitter Web App       False  \n",
              "3         ['Bitcoin', 'FX', 'BTC', 'crypto']              dlvr.it       False  \n",
              "4                                    ['BTC']      Twitter Web App       False  "
            ],
            "text/html": [
              "\n",
              "  <div id=\"df-63d56718-85f8-4112-9d87-0d813d5955c4\" class=\"colab-df-container\">\n",
              "    <div>\n",
              "<style scoped>\n",
              "    .dataframe tbody tr th:only-of-type {\n",
              "        vertical-align: middle;\n",
              "    }\n",
              "\n",
              "    .dataframe tbody tr th {\n",
              "        vertical-align: top;\n",
              "    }\n",
              "\n",
              "    .dataframe thead th {\n",
              "        text-align: right;\n",
              "    }\n",
              "</style>\n",
              "<table border=\"1\" class=\"dataframe\">\n",
              "  <thead>\n",
              "    <tr style=\"text-align: right;\">\n",
              "      <th></th>\n",
              "      <th>user_name</th>\n",
              "      <th>user_location</th>\n",
              "      <th>user_description</th>\n",
              "      <th>user_created</th>\n",
              "      <th>user_followers</th>\n",
              "      <th>user_friends</th>\n",
              "      <th>user_favourites</th>\n",
              "      <th>user_verified</th>\n",
              "      <th>date</th>\n",
              "      <th>text</th>\n",
              "      <th>hashtags</th>\n",
              "      <th>source</th>\n",
              "      <th>is_retweet</th>\n",
              "    </tr>\n",
              "  </thead>\n",
              "  <tbody>\n",
              "    <tr>\n",
              "      <th>0</th>\n",
              "      <td>DeSota Wilson</td>\n",
              "      <td>Atlanta, GA</td>\n",
              "      <td>Biz Consultant, real estate, fintech, startups...</td>\n",
              "      <td>2009-04-26 20:05:09</td>\n",
              "      <td>8534.0</td>\n",
              "      <td>7605</td>\n",
              "      <td>4838</td>\n",
              "      <td>False</td>\n",
              "      <td>2021-02-10 23:59:04</td>\n",
              "      <td>Blue Ridge Bank shares halted by NYSE after #b...</td>\n",
              "      <td>['bitcoin']</td>\n",
              "      <td>Twitter Web App</td>\n",
              "      <td>False</td>\n",
              "    </tr>\n",
              "    <tr>\n",
              "      <th>1</th>\n",
              "      <td>CryptoND</td>\n",
              "      <td>NaN</td>\n",
              "      <td>😎 BITCOINLIVE is a Dutch platform aimed at inf...</td>\n",
              "      <td>2019-10-17 20:12:10</td>\n",
              "      <td>6769.0</td>\n",
              "      <td>1532</td>\n",
              "      <td>25483</td>\n",
              "      <td>False</td>\n",
              "      <td>2021-02-10 23:58:48</td>\n",
              "      <td>😎 Today, that's this #Thursday, we will do a \"...</td>\n",
              "      <td>['Thursday', 'Btc', 'wallet', 'security']</td>\n",
              "      <td>Twitter for Android</td>\n",
              "      <td>False</td>\n",
              "    </tr>\n",
              "    <tr>\n",
              "      <th>2</th>\n",
              "      <td>Tdlmatias</td>\n",
              "      <td>London, England</td>\n",
              "      <td>IM Academy : The best #forex, #SelfEducation, ...</td>\n",
              "      <td>2014-11-10 10:50:37</td>\n",
              "      <td>128.0</td>\n",
              "      <td>332</td>\n",
              "      <td>924</td>\n",
              "      <td>False</td>\n",
              "      <td>2021-02-10 23:54:48</td>\n",
              "      <td>Guys evening, I have read this article about B...</td>\n",
              "      <td>NaN</td>\n",
              "      <td>Twitter Web App</td>\n",
              "      <td>False</td>\n",
              "    </tr>\n",
              "    <tr>\n",
              "      <th>3</th>\n",
              "      <td>Crypto is the future</td>\n",
              "      <td>NaN</td>\n",
              "      <td>I will post a lot of buying signals for BTC tr...</td>\n",
              "      <td>2019-09-28 16:48:12</td>\n",
              "      <td>625.0</td>\n",
              "      <td>129</td>\n",
              "      <td>14</td>\n",
              "      <td>False</td>\n",
              "      <td>2021-02-10 23:54:33</td>\n",
              "      <td>$BTC A big chance in a billion! Price: \\487264...</td>\n",
              "      <td>['Bitcoin', 'FX', 'BTC', 'crypto']</td>\n",
              "      <td>dlvr.it</td>\n",
              "      <td>False</td>\n",
              "    </tr>\n",
              "    <tr>\n",
              "      <th>4</th>\n",
              "      <td>Alex Kirchmaier 🇦🇹🇸🇪 #FactsSuperspreader</td>\n",
              "      <td>Europa</td>\n",
              "      <td>Co-founder @RENJERJerky | Forbes 30Under30 | I...</td>\n",
              "      <td>2016-02-03 13:15:55</td>\n",
              "      <td>1249.0</td>\n",
              "      <td>1472</td>\n",
              "      <td>10482</td>\n",
              "      <td>False</td>\n",
              "      <td>2021-02-10 23:54:06</td>\n",
              "      <td>This network is secured by 9 508 nodes as of t...</td>\n",
              "      <td>['BTC']</td>\n",
              "      <td>Twitter Web App</td>\n",
              "      <td>False</td>\n",
              "    </tr>\n",
              "  </tbody>\n",
              "</table>\n",
              "</div>\n",
              "    <div class=\"colab-df-buttons\">\n",
              "\n",
              "  <div class=\"colab-df-container\">\n",
              "    <button class=\"colab-df-convert\" onclick=\"convertToInteractive('df-63d56718-85f8-4112-9d87-0d813d5955c4')\"\n",
              "            title=\"Convert this dataframe to an interactive table.\"\n",
              "            style=\"display:none;\">\n",
              "\n",
              "  <svg xmlns=\"http://www.w3.org/2000/svg\" height=\"24px\" viewBox=\"0 -960 960 960\">\n",
              "    <path d=\"M120-120v-720h720v720H120Zm60-500h600v-160H180v160Zm220 220h160v-160H400v160Zm0 220h160v-160H400v160ZM180-400h160v-160H180v160Zm440 0h160v-160H620v160ZM180-180h160v-160H180v160Zm440 0h160v-160H620v160Z\"/>\n",
              "  </svg>\n",
              "    </button>\n",
              "\n",
              "  <style>\n",
              "    .colab-df-container {\n",
              "      display:flex;\n",
              "      gap: 12px;\n",
              "    }\n",
              "\n",
              "    .colab-df-convert {\n",
              "      background-color: #E8F0FE;\n",
              "      border: none;\n",
              "      border-radius: 50%;\n",
              "      cursor: pointer;\n",
              "      display: none;\n",
              "      fill: #1967D2;\n",
              "      height: 32px;\n",
              "      padding: 0 0 0 0;\n",
              "      width: 32px;\n",
              "    }\n",
              "\n",
              "    .colab-df-convert:hover {\n",
              "      background-color: #E2EBFA;\n",
              "      box-shadow: 0px 1px 2px rgba(60, 64, 67, 0.3), 0px 1px 3px 1px rgba(60, 64, 67, 0.15);\n",
              "      fill: #174EA6;\n",
              "    }\n",
              "\n",
              "    .colab-df-buttons div {\n",
              "      margin-bottom: 4px;\n",
              "    }\n",
              "\n",
              "    [theme=dark] .colab-df-convert {\n",
              "      background-color: #3B4455;\n",
              "      fill: #D2E3FC;\n",
              "    }\n",
              "\n",
              "    [theme=dark] .colab-df-convert:hover {\n",
              "      background-color: #434B5C;\n",
              "      box-shadow: 0px 1px 3px 1px rgba(0, 0, 0, 0.15);\n",
              "      filter: drop-shadow(0px 1px 2px rgba(0, 0, 0, 0.3));\n",
              "      fill: #FFFFFF;\n",
              "    }\n",
              "  </style>\n",
              "\n",
              "    <script>\n",
              "      const buttonEl =\n",
              "        document.querySelector('#df-63d56718-85f8-4112-9d87-0d813d5955c4 button.colab-df-convert');\n",
              "      buttonEl.style.display =\n",
              "        google.colab.kernel.accessAllowed ? 'block' : 'none';\n",
              "\n",
              "      async function convertToInteractive(key) {\n",
              "        const element = document.querySelector('#df-63d56718-85f8-4112-9d87-0d813d5955c4');\n",
              "        const dataTable =\n",
              "          await google.colab.kernel.invokeFunction('convertToInteractive',\n",
              "                                                    [key], {});\n",
              "        if (!dataTable) return;\n",
              "\n",
              "        const docLinkHtml = 'Like what you see? Visit the ' +\n",
              "          '<a target=\"_blank\" href=https://colab.research.google.com/notebooks/data_table.ipynb>data table notebook</a>'\n",
              "          + ' to learn more about interactive tables.';\n",
              "        element.innerHTML = '';\n",
              "        dataTable['output_type'] = 'display_data';\n",
              "        await google.colab.output.renderOutput(dataTable, element);\n",
              "        const docLink = document.createElement('div');\n",
              "        docLink.innerHTML = docLinkHtml;\n",
              "        element.appendChild(docLink);\n",
              "      }\n",
              "    </script>\n",
              "  </div>\n",
              "\n",
              "\n",
              "<div id=\"df-e27678f3-06cf-4dcc-809f-26bac0290d78\">\n",
              "  <button class=\"colab-df-quickchart\" onclick=\"quickchart('df-e27678f3-06cf-4dcc-809f-26bac0290d78')\"\n",
              "            title=\"Suggest charts\"\n",
              "            style=\"display:none;\">\n",
              "\n",
              "<svg xmlns=\"http://www.w3.org/2000/svg\" height=\"24px\"viewBox=\"0 0 24 24\"\n",
              "     width=\"24px\">\n",
              "    <g>\n",
              "        <path d=\"M19 3H5c-1.1 0-2 .9-2 2v14c0 1.1.9 2 2 2h14c1.1 0 2-.9 2-2V5c0-1.1-.9-2-2-2zM9 17H7v-7h2v7zm4 0h-2V7h2v10zm4 0h-2v-4h2v4z\"/>\n",
              "    </g>\n",
              "</svg>\n",
              "  </button>\n",
              "\n",
              "<style>\n",
              "  .colab-df-quickchart {\n",
              "      --bg-color: #E8F0FE;\n",
              "      --fill-color: #1967D2;\n",
              "      --hover-bg-color: #E2EBFA;\n",
              "      --hover-fill-color: #174EA6;\n",
              "      --disabled-fill-color: #AAA;\n",
              "      --disabled-bg-color: #DDD;\n",
              "  }\n",
              "\n",
              "  [theme=dark] .colab-df-quickchart {\n",
              "      --bg-color: #3B4455;\n",
              "      --fill-color: #D2E3FC;\n",
              "      --hover-bg-color: #434B5C;\n",
              "      --hover-fill-color: #FFFFFF;\n",
              "      --disabled-bg-color: #3B4455;\n",
              "      --disabled-fill-color: #666;\n",
              "  }\n",
              "\n",
              "  .colab-df-quickchart {\n",
              "    background-color: var(--bg-color);\n",
              "    border: none;\n",
              "    border-radius: 50%;\n",
              "    cursor: pointer;\n",
              "    display: none;\n",
              "    fill: var(--fill-color);\n",
              "    height: 32px;\n",
              "    padding: 0;\n",
              "    width: 32px;\n",
              "  }\n",
              "\n",
              "  .colab-df-quickchart:hover {\n",
              "    background-color: var(--hover-bg-color);\n",
              "    box-shadow: 0 1px 2px rgba(60, 64, 67, 0.3), 0 1px 3px 1px rgba(60, 64, 67, 0.15);\n",
              "    fill: var(--button-hover-fill-color);\n",
              "  }\n",
              "\n",
              "  .colab-df-quickchart-complete:disabled,\n",
              "  .colab-df-quickchart-complete:disabled:hover {\n",
              "    background-color: var(--disabled-bg-color);\n",
              "    fill: var(--disabled-fill-color);\n",
              "    box-shadow: none;\n",
              "  }\n",
              "\n",
              "  .colab-df-spinner {\n",
              "    border: 2px solid var(--fill-color);\n",
              "    border-color: transparent;\n",
              "    border-bottom-color: var(--fill-color);\n",
              "    animation:\n",
              "      spin 1s steps(1) infinite;\n",
              "  }\n",
              "\n",
              "  @keyframes spin {\n",
              "    0% {\n",
              "      border-color: transparent;\n",
              "      border-bottom-color: var(--fill-color);\n",
              "      border-left-color: var(--fill-color);\n",
              "    }\n",
              "    20% {\n",
              "      border-color: transparent;\n",
              "      border-left-color: var(--fill-color);\n",
              "      border-top-color: var(--fill-color);\n",
              "    }\n",
              "    30% {\n",
              "      border-color: transparent;\n",
              "      border-left-color: var(--fill-color);\n",
              "      border-top-color: var(--fill-color);\n",
              "      border-right-color: var(--fill-color);\n",
              "    }\n",
              "    40% {\n",
              "      border-color: transparent;\n",
              "      border-right-color: var(--fill-color);\n",
              "      border-top-color: var(--fill-color);\n",
              "    }\n",
              "    60% {\n",
              "      border-color: transparent;\n",
              "      border-right-color: var(--fill-color);\n",
              "    }\n",
              "    80% {\n",
              "      border-color: transparent;\n",
              "      border-right-color: var(--fill-color);\n",
              "      border-bottom-color: var(--fill-color);\n",
              "    }\n",
              "    90% {\n",
              "      border-color: transparent;\n",
              "      border-bottom-color: var(--fill-color);\n",
              "    }\n",
              "  }\n",
              "</style>\n",
              "\n",
              "  <script>\n",
              "    async function quickchart(key) {\n",
              "      const quickchartButtonEl =\n",
              "        document.querySelector('#' + key + ' button');\n",
              "      quickchartButtonEl.disabled = true;  // To prevent multiple clicks.\n",
              "      quickchartButtonEl.classList.add('colab-df-spinner');\n",
              "      try {\n",
              "        const charts = await google.colab.kernel.invokeFunction(\n",
              "            'suggestCharts', [key], {});\n",
              "      } catch (error) {\n",
              "        console.error('Error during call to suggestCharts:', error);\n",
              "      }\n",
              "      quickchartButtonEl.classList.remove('colab-df-spinner');\n",
              "      quickchartButtonEl.classList.add('colab-df-quickchart-complete');\n",
              "    }\n",
              "    (() => {\n",
              "      let quickchartButtonEl =\n",
              "        document.querySelector('#df-e27678f3-06cf-4dcc-809f-26bac0290d78 button');\n",
              "      quickchartButtonEl.style.display =\n",
              "        google.colab.kernel.accessAllowed ? 'block' : 'none';\n",
              "    })();\n",
              "  </script>\n",
              "</div>\n",
              "\n",
              "    </div>\n",
              "  </div>\n"
            ],
            "application/vnd.google.colaboratory.intrinsic+json": {
              "type": "dataframe",
              "variable_name": "tweets_df",
              "summary": "{\n  \"name\": \"tweets_df\",\n  \"rows\": 10000,\n  \"fields\": [\n    {\n      \"column\": \"user_name\",\n      \"properties\": {\n        \"dtype\": \"category\",\n        \"num_unique_values\": 4178,\n        \"samples\": [\n          \"\\u20bfitcoin\\u20bfiddy\",\n          \"When Binance?\",\n          \"CryptoChef\"\n        ],\n        \"semantic_type\": \"\",\n        \"description\": \"\"\n      }\n    },\n    {\n      \"column\": \"user_location\",\n      \"properties\": {\n        \"dtype\": \"category\",\n        \"num_unique_values\": 1506,\n        \"samples\": [\n          \"NIGERIA\",\n          \"Pennsylvania, USA\",\n          \"MUMBAI\"\n        ],\n        \"semantic_type\": \"\",\n        \"description\": \"\"\n      }\n    },\n    {\n      \"column\": \"user_description\",\n      \"properties\": {\n        \"dtype\": \"category\",\n        \"num_unique_values\": 3687,\n        \"samples\": [\n          \"Freelance Writer.\",\n          \"Just my two cents\",\n          \"#MambaMentality \\ud83d\\udc0d| @Bengals \\ud83c\\udfc8 @MiamiHeat\\ud83c\\udfc0 @Dodgers\\u26be\\ufe0f FanGirl | Sarcastic F*ck \\ud83d\\udd95\\ud83c\\udffd| Penn State Alum \\ud83e\\udd81 #Bitcoin #Link #\"\n        ],\n        \"semantic_type\": \"\",\n        \"description\": \"\"\n      }\n    },\n    {\n      \"column\": \"user_created\",\n      \"properties\": {\n        \"dtype\": \"object\",\n        \"num_unique_values\": 4217,\n        \"samples\": [\n          \"2011-11-12 01:04:47\",\n          \"2019-08-09 07:15:33\",\n          \"2018-02-21 01:09:33\"\n        ],\n        \"semantic_type\": \"\",\n        \"description\": \"\"\n      }\n    },\n    {\n      \"column\": \"user_followers\",\n      \"properties\": {\n        \"dtype\": \"number\",\n        \"std\": 79334.44122837498,\n        \"min\": 0.0,\n        \"max\": 3977223.0,\n        \"num_unique_values\": 1801,\n        \"samples\": [\n          1793.0,\n          11776.0,\n          226.0\n        ],\n        \"semantic_type\": \"\",\n        \"description\": \"\"\n      }\n    },\n    {\n      \"column\": \"user_friends\",\n      \"properties\": {\n        \"dtype\": \"number\",\n        \"std\": 4587,\n        \"min\": 0,\n        \"max\": 145451,\n        \"num_unique_values\": 1494,\n        \"samples\": [\n          2222,\n          4998,\n          908\n        ],\n        \"semantic_type\": \"\",\n        \"description\": \"\"\n      }\n    },\n    {\n      \"column\": \"user_favourites\",\n      \"properties\": {\n        \"dtype\": \"number\",\n        \"std\": 21760,\n        \"min\": 0,\n        \"max\": 483504,\n        \"num_unique_values\": 2570,\n        \"samples\": [\n          1780,\n          34684,\n          6858\n        ],\n        \"semantic_type\": \"\",\n        \"description\": \"\"\n      }\n    },\n    {\n      \"column\": \"user_verified\",\n      \"properties\": {\n        \"dtype\": \"boolean\",\n        \"num_unique_values\": 2,\n        \"samples\": [\n          true,\n          false\n        ],\n        \"semantic_type\": \"\",\n        \"description\": \"\"\n      }\n    },\n    {\n      \"column\": \"date\",\n      \"properties\": {\n        \"dtype\": \"object\",\n        \"num_unique_values\": 9561,\n        \"samples\": [\n          \"2021-02-10 17:38:40\",\n          \"2021-02-09 17:06:36\"\n        ],\n        \"semantic_type\": \"\",\n        \"description\": \"\"\n      }\n    },\n    {\n      \"column\": \"text\",\n      \"properties\": {\n        \"dtype\": \"string\",\n        \"num_unique_values\": 9954,\n        \"samples\": [\n          \"@latokens LATOKEN #Bitcoin\\u00a0 Giveaway \\ud83d\\udcb0\\n\\n5 lucky winners to get $50 each in #BTC\\u00a0. Finish easy tasks to be eligible.\\u2026 https://t.co/BlOMoNLhtl\",\n          \"\\u2b06\\ufe0f Buyer alert: 13 $BTC bought at market @ 43200 #Bitcoin #crypto #BTC\\n  https://t.co/iMB1mj8Cs1 \\ud83d\\udc48\"\n        ],\n        \"semantic_type\": \"\",\n        \"description\": \"\"\n      }\n    },\n    {\n      \"column\": \"hashtags\",\n      \"properties\": {\n        \"dtype\": \"category\",\n        \"num_unique_values\": 3334,\n        \"samples\": [\n          \"['BTC', 'ElonMusk', 'Bitcoin', 'dogecoin', '100DaysOfCode']\",\n          \"['HEX', 'btc', 'DeFi', 'TikTok']\"\n        ],\n        \"semantic_type\": \"\",\n        \"description\": \"\"\n      }\n    },\n    {\n      \"column\": \"source\",\n      \"properties\": {\n        \"dtype\": \"category\",\n        \"num_unique_values\": 139,\n        \"samples\": [\n          \"cryptoreview_ai\",\n          \"Sprout Social\"\n        ],\n        \"semantic_type\": \"\",\n        \"description\": \"\"\n      }\n    },\n    {\n      \"column\": \"is_retweet\",\n      \"properties\": {\n        \"dtype\": \"boolean\",\n        \"num_unique_values\": 1,\n        \"samples\": [\n          false\n        ],\n        \"semantic_type\": \"\",\n        \"description\": \"\"\n      }\n    }\n  ]\n}"
            }
          },
          "metadata": {},
          "execution_count": 44
        }
      ],
      "source": [
        "tweets_df.head()\n"
      ]
    },
    {
      "cell_type": "code",
      "execution_count": 45,
      "metadata": {
        "colab": {
          "base_uri": "https://localhost:8080/",
          "height": 293
        },
        "id": "Zfe3T2QuIf7o",
        "outputId": "e2976f21-e6be-4049-b75f-d2399cc55764"
      },
      "outputs": [
        {
          "output_type": "execute_result",
          "data": {
            "text/plain": [
              "             timestamp      open      high       low     close    volume  \\\n",
              "0  2023-08-01 13:19:00  28902.48  28902.49  28902.48  28902.49   4.68658   \n",
              "1  2023-08-01 13:18:00  28902.48  28902.49  28902.48  28902.49   4.77589   \n",
              "2  2023-08-01 13:17:00  28908.52  28908.53  28902.48  28902.49  11.52263   \n",
              "3  2023-08-01 13:16:00  28907.41  28912.74  28907.41  28908.53  15.89610   \n",
              "4  2023-08-01 13:15:00  28896.00  28907.42  28893.03  28907.41  37.74657   \n",
              "\n",
              "   quote_asset_volume  number_of_trades  taker_buy_base_asset_volume  \\\n",
              "0        1.354538e+05               258                      0.89391   \n",
              "1        1.380351e+05               317                      2.24546   \n",
              "2        3.330532e+05               451                      2.70873   \n",
              "3        4.595556e+05               483                     10.22981   \n",
              "4        1.090761e+06               686                     16.50452   \n",
              "\n",
              "   taker_buy_quote_asset_volume  \n",
              "0                  25836.224836  \n",
              "1                  64899.385195  \n",
              "2                  78290.170121  \n",
              "3                 295738.166916  \n",
              "4                 476955.246611  "
            ],
            "text/html": [
              "\n",
              "  <div id=\"df-19280a86-49ce-47f2-a7b8-a3f9b80bb34e\" class=\"colab-df-container\">\n",
              "    <div>\n",
              "<style scoped>\n",
              "    .dataframe tbody tr th:only-of-type {\n",
              "        vertical-align: middle;\n",
              "    }\n",
              "\n",
              "    .dataframe tbody tr th {\n",
              "        vertical-align: top;\n",
              "    }\n",
              "\n",
              "    .dataframe thead th {\n",
              "        text-align: right;\n",
              "    }\n",
              "</style>\n",
              "<table border=\"1\" class=\"dataframe\">\n",
              "  <thead>\n",
              "    <tr style=\"text-align: right;\">\n",
              "      <th></th>\n",
              "      <th>timestamp</th>\n",
              "      <th>open</th>\n",
              "      <th>high</th>\n",
              "      <th>low</th>\n",
              "      <th>close</th>\n",
              "      <th>volume</th>\n",
              "      <th>quote_asset_volume</th>\n",
              "      <th>number_of_trades</th>\n",
              "      <th>taker_buy_base_asset_volume</th>\n",
              "      <th>taker_buy_quote_asset_volume</th>\n",
              "    </tr>\n",
              "  </thead>\n",
              "  <tbody>\n",
              "    <tr>\n",
              "      <th>0</th>\n",
              "      <td>2023-08-01 13:19:00</td>\n",
              "      <td>28902.48</td>\n",
              "      <td>28902.49</td>\n",
              "      <td>28902.48</td>\n",
              "      <td>28902.49</td>\n",
              "      <td>4.68658</td>\n",
              "      <td>1.354538e+05</td>\n",
              "      <td>258</td>\n",
              "      <td>0.89391</td>\n",
              "      <td>25836.224836</td>\n",
              "    </tr>\n",
              "    <tr>\n",
              "      <th>1</th>\n",
              "      <td>2023-08-01 13:18:00</td>\n",
              "      <td>28902.48</td>\n",
              "      <td>28902.49</td>\n",
              "      <td>28902.48</td>\n",
              "      <td>28902.49</td>\n",
              "      <td>4.77589</td>\n",
              "      <td>1.380351e+05</td>\n",
              "      <td>317</td>\n",
              "      <td>2.24546</td>\n",
              "      <td>64899.385195</td>\n",
              "    </tr>\n",
              "    <tr>\n",
              "      <th>2</th>\n",
              "      <td>2023-08-01 13:17:00</td>\n",
              "      <td>28908.52</td>\n",
              "      <td>28908.53</td>\n",
              "      <td>28902.48</td>\n",
              "      <td>28902.49</td>\n",
              "      <td>11.52263</td>\n",
              "      <td>3.330532e+05</td>\n",
              "      <td>451</td>\n",
              "      <td>2.70873</td>\n",
              "      <td>78290.170121</td>\n",
              "    </tr>\n",
              "    <tr>\n",
              "      <th>3</th>\n",
              "      <td>2023-08-01 13:16:00</td>\n",
              "      <td>28907.41</td>\n",
              "      <td>28912.74</td>\n",
              "      <td>28907.41</td>\n",
              "      <td>28908.53</td>\n",
              "      <td>15.89610</td>\n",
              "      <td>4.595556e+05</td>\n",
              "      <td>483</td>\n",
              "      <td>10.22981</td>\n",
              "      <td>295738.166916</td>\n",
              "    </tr>\n",
              "    <tr>\n",
              "      <th>4</th>\n",
              "      <td>2023-08-01 13:15:00</td>\n",
              "      <td>28896.00</td>\n",
              "      <td>28907.42</td>\n",
              "      <td>28893.03</td>\n",
              "      <td>28907.41</td>\n",
              "      <td>37.74657</td>\n",
              "      <td>1.090761e+06</td>\n",
              "      <td>686</td>\n",
              "      <td>16.50452</td>\n",
              "      <td>476955.246611</td>\n",
              "    </tr>\n",
              "  </tbody>\n",
              "</table>\n",
              "</div>\n",
              "    <div class=\"colab-df-buttons\">\n",
              "\n",
              "  <div class=\"colab-df-container\">\n",
              "    <button class=\"colab-df-convert\" onclick=\"convertToInteractive('df-19280a86-49ce-47f2-a7b8-a3f9b80bb34e')\"\n",
              "            title=\"Convert this dataframe to an interactive table.\"\n",
              "            style=\"display:none;\">\n",
              "\n",
              "  <svg xmlns=\"http://www.w3.org/2000/svg\" height=\"24px\" viewBox=\"0 -960 960 960\">\n",
              "    <path d=\"M120-120v-720h720v720H120Zm60-500h600v-160H180v160Zm220 220h160v-160H400v160Zm0 220h160v-160H400v160ZM180-400h160v-160H180v160Zm440 0h160v-160H620v160ZM180-180h160v-160H180v160Zm440 0h160v-160H620v160Z\"/>\n",
              "  </svg>\n",
              "    </button>\n",
              "\n",
              "  <style>\n",
              "    .colab-df-container {\n",
              "      display:flex;\n",
              "      gap: 12px;\n",
              "    }\n",
              "\n",
              "    .colab-df-convert {\n",
              "      background-color: #E8F0FE;\n",
              "      border: none;\n",
              "      border-radius: 50%;\n",
              "      cursor: pointer;\n",
              "      display: none;\n",
              "      fill: #1967D2;\n",
              "      height: 32px;\n",
              "      padding: 0 0 0 0;\n",
              "      width: 32px;\n",
              "    }\n",
              "\n",
              "    .colab-df-convert:hover {\n",
              "      background-color: #E2EBFA;\n",
              "      box-shadow: 0px 1px 2px rgba(60, 64, 67, 0.3), 0px 1px 3px 1px rgba(60, 64, 67, 0.15);\n",
              "      fill: #174EA6;\n",
              "    }\n",
              "\n",
              "    .colab-df-buttons div {\n",
              "      margin-bottom: 4px;\n",
              "    }\n",
              "\n",
              "    [theme=dark] .colab-df-convert {\n",
              "      background-color: #3B4455;\n",
              "      fill: #D2E3FC;\n",
              "    }\n",
              "\n",
              "    [theme=dark] .colab-df-convert:hover {\n",
              "      background-color: #434B5C;\n",
              "      box-shadow: 0px 1px 3px 1px rgba(0, 0, 0, 0.15);\n",
              "      filter: drop-shadow(0px 1px 2px rgba(0, 0, 0, 0.3));\n",
              "      fill: #FFFFFF;\n",
              "    }\n",
              "  </style>\n",
              "\n",
              "    <script>\n",
              "      const buttonEl =\n",
              "        document.querySelector('#df-19280a86-49ce-47f2-a7b8-a3f9b80bb34e button.colab-df-convert');\n",
              "      buttonEl.style.display =\n",
              "        google.colab.kernel.accessAllowed ? 'block' : 'none';\n",
              "\n",
              "      async function convertToInteractive(key) {\n",
              "        const element = document.querySelector('#df-19280a86-49ce-47f2-a7b8-a3f9b80bb34e');\n",
              "        const dataTable =\n",
              "          await google.colab.kernel.invokeFunction('convertToInteractive',\n",
              "                                                    [key], {});\n",
              "        if (!dataTable) return;\n",
              "\n",
              "        const docLinkHtml = 'Like what you see? Visit the ' +\n",
              "          '<a target=\"_blank\" href=https://colab.research.google.com/notebooks/data_table.ipynb>data table notebook</a>'\n",
              "          + ' to learn more about interactive tables.';\n",
              "        element.innerHTML = '';\n",
              "        dataTable['output_type'] = 'display_data';\n",
              "        await google.colab.output.renderOutput(dataTable, element);\n",
              "        const docLink = document.createElement('div');\n",
              "        docLink.innerHTML = docLinkHtml;\n",
              "        element.appendChild(docLink);\n",
              "      }\n",
              "    </script>\n",
              "  </div>\n",
              "\n",
              "\n",
              "<div id=\"df-6d1a4d43-e346-4a72-a6ec-eb655331fad4\">\n",
              "  <button class=\"colab-df-quickchart\" onclick=\"quickchart('df-6d1a4d43-e346-4a72-a6ec-eb655331fad4')\"\n",
              "            title=\"Suggest charts\"\n",
              "            style=\"display:none;\">\n",
              "\n",
              "<svg xmlns=\"http://www.w3.org/2000/svg\" height=\"24px\"viewBox=\"0 0 24 24\"\n",
              "     width=\"24px\">\n",
              "    <g>\n",
              "        <path d=\"M19 3H5c-1.1 0-2 .9-2 2v14c0 1.1.9 2 2 2h14c1.1 0 2-.9 2-2V5c0-1.1-.9-2-2-2zM9 17H7v-7h2v7zm4 0h-2V7h2v10zm4 0h-2v-4h2v4z\"/>\n",
              "    </g>\n",
              "</svg>\n",
              "  </button>\n",
              "\n",
              "<style>\n",
              "  .colab-df-quickchart {\n",
              "      --bg-color: #E8F0FE;\n",
              "      --fill-color: #1967D2;\n",
              "      --hover-bg-color: #E2EBFA;\n",
              "      --hover-fill-color: #174EA6;\n",
              "      --disabled-fill-color: #AAA;\n",
              "      --disabled-bg-color: #DDD;\n",
              "  }\n",
              "\n",
              "  [theme=dark] .colab-df-quickchart {\n",
              "      --bg-color: #3B4455;\n",
              "      --fill-color: #D2E3FC;\n",
              "      --hover-bg-color: #434B5C;\n",
              "      --hover-fill-color: #FFFFFF;\n",
              "      --disabled-bg-color: #3B4455;\n",
              "      --disabled-fill-color: #666;\n",
              "  }\n",
              "\n",
              "  .colab-df-quickchart {\n",
              "    background-color: var(--bg-color);\n",
              "    border: none;\n",
              "    border-radius: 50%;\n",
              "    cursor: pointer;\n",
              "    display: none;\n",
              "    fill: var(--fill-color);\n",
              "    height: 32px;\n",
              "    padding: 0;\n",
              "    width: 32px;\n",
              "  }\n",
              "\n",
              "  .colab-df-quickchart:hover {\n",
              "    background-color: var(--hover-bg-color);\n",
              "    box-shadow: 0 1px 2px rgba(60, 64, 67, 0.3), 0 1px 3px 1px rgba(60, 64, 67, 0.15);\n",
              "    fill: var(--button-hover-fill-color);\n",
              "  }\n",
              "\n",
              "  .colab-df-quickchart-complete:disabled,\n",
              "  .colab-df-quickchart-complete:disabled:hover {\n",
              "    background-color: var(--disabled-bg-color);\n",
              "    fill: var(--disabled-fill-color);\n",
              "    box-shadow: none;\n",
              "  }\n",
              "\n",
              "  .colab-df-spinner {\n",
              "    border: 2px solid var(--fill-color);\n",
              "    border-color: transparent;\n",
              "    border-bottom-color: var(--fill-color);\n",
              "    animation:\n",
              "      spin 1s steps(1) infinite;\n",
              "  }\n",
              "\n",
              "  @keyframes spin {\n",
              "    0% {\n",
              "      border-color: transparent;\n",
              "      border-bottom-color: var(--fill-color);\n",
              "      border-left-color: var(--fill-color);\n",
              "    }\n",
              "    20% {\n",
              "      border-color: transparent;\n",
              "      border-left-color: var(--fill-color);\n",
              "      border-top-color: var(--fill-color);\n",
              "    }\n",
              "    30% {\n",
              "      border-color: transparent;\n",
              "      border-left-color: var(--fill-color);\n",
              "      border-top-color: var(--fill-color);\n",
              "      border-right-color: var(--fill-color);\n",
              "    }\n",
              "    40% {\n",
              "      border-color: transparent;\n",
              "      border-right-color: var(--fill-color);\n",
              "      border-top-color: var(--fill-color);\n",
              "    }\n",
              "    60% {\n",
              "      border-color: transparent;\n",
              "      border-right-color: var(--fill-color);\n",
              "    }\n",
              "    80% {\n",
              "      border-color: transparent;\n",
              "      border-right-color: var(--fill-color);\n",
              "      border-bottom-color: var(--fill-color);\n",
              "    }\n",
              "    90% {\n",
              "      border-color: transparent;\n",
              "      border-bottom-color: var(--fill-color);\n",
              "    }\n",
              "  }\n",
              "</style>\n",
              "\n",
              "  <script>\n",
              "    async function quickchart(key) {\n",
              "      const quickchartButtonEl =\n",
              "        document.querySelector('#' + key + ' button');\n",
              "      quickchartButtonEl.disabled = true;  // To prevent multiple clicks.\n",
              "      quickchartButtonEl.classList.add('colab-df-spinner');\n",
              "      try {\n",
              "        const charts = await google.colab.kernel.invokeFunction(\n",
              "            'suggestCharts', [key], {});\n",
              "      } catch (error) {\n",
              "        console.error('Error during call to suggestCharts:', error);\n",
              "      }\n",
              "      quickchartButtonEl.classList.remove('colab-df-spinner');\n",
              "      quickchartButtonEl.classList.add('colab-df-quickchart-complete');\n",
              "    }\n",
              "    (() => {\n",
              "      let quickchartButtonEl =\n",
              "        document.querySelector('#df-6d1a4d43-e346-4a72-a6ec-eb655331fad4 button');\n",
              "      quickchartButtonEl.style.display =\n",
              "        google.colab.kernel.accessAllowed ? 'block' : 'none';\n",
              "    })();\n",
              "  </script>\n",
              "</div>\n",
              "\n",
              "    </div>\n",
              "  </div>\n"
            ],
            "application/vnd.google.colaboratory.intrinsic+json": {
              "type": "dataframe",
              "variable_name": "price_df"
            }
          },
          "metadata": {},
          "execution_count": 45
        }
      ],
      "source": [
        "price_df.head()"
      ]
    },
    {
      "cell_type": "code",
      "source": [
        "import pandas as pd\n",
        "\n",
        "# Convert dates and times\n",
        "tweets_df['user_created'] = pd.to_datetime(tweets_df['user_created'], errors='coerce')\n",
        "price_df['timestamp'] = pd.to_datetime(price_df['timestamp'], errors='coerce')\n",
        "\n",
        "# Clean invalid values and sort by time\n",
        "tweets_df = tweets_df.dropna(subset=['user_created']).sort_values(by='user_created')\n",
        "price_df = price_df.dropna(subset=['timestamp']).sort_values(by='timestamp')\n",
        "\n",
        "# Match timestamps while preserving all tweets\n",
        "merged_df = pd.merge_asof(\n",
        "    tweets_df,\n",
        "    price_df,\n",
        "    left_on='user_created',\n",
        "    right_on='timestamp',\n",
        "    direction='backward',\n",
        "    tolerance=pd.Timedelta('1d')  # Maximum 1-day difference\n",
        ")\n",
        "\n",
        "# Calculate time difference\n",
        "merged_df['time_difference'] = (merged_df['user_created'] - merged_df['timestamp']).abs()\n",
        "\n",
        "missing_matches = merged_df[merged_df['timestamp'].isna()]\n",
        "print(f\"Number of Unmatched Tweets: {len(missing_matches)}\")\n",
        "\n",
        "# Perform forward search for unmatched tweets\n",
        "merged_df_forward = pd.merge_asof(\n",
        "    tweets_df,\n",
        "    price_df,\n",
        "    left_on='user_created',\n",
        "    right_on='timestamp',\n",
        "    direction='forward',\n",
        "    tolerance=pd.Timedelta('1d')\n",
        ")\n",
        "\n",
        "# Combine and remove duplicates\n",
        "final_merged_df = pd.concat([merged_df, merged_df_forward]).drop_duplicates(subset=['user_created'])\n",
        "\n",
        "# Check still unmatched rows\n",
        "still_missing = final_merged_df[final_merged_df['timestamp'].isna()]\n",
        "print(f\"Number of Still Unmatched Tweets: {len(still_missing)}\")\n",
        "\n",
        "print(\"\\nMatched Tweet and Price Data:\")\n",
        "print(final_merged_df.head())\n",
        "\n",
        "final_merged_df = final_merged_df.dropna(subset=['timestamp']).reset_index(drop=True)\n",
        "\n",
        "print(f\"Number of Unmatched Tweets After Removal: {final_merged_df['timestamp'].isna().sum()}\")\n",
        "print(\"\\nMatched Tweet and Price Data (Unmatched Removed):\")\n",
        "print(final_merged_df.head())\n"
      ],
      "metadata": {
        "colab": {
          "base_uri": "https://localhost:8080/"
        },
        "id": "0L97xARg2wUD",
        "outputId": "06464eeb-bc95-48e7-e2ba-e064d5101b86"
      },
      "execution_count": 46,
      "outputs": [
        {
          "output_type": "stream",
          "name": "stdout",
          "text": [
            "Number of Unmatched Tweets: 3969\n",
            "Number of Still Unmatched Tweets: 1802\n",
            "\n",
            "Matched Tweet and Price Data:\n",
            "        user_name         user_location  \\\n",
            "0       Greg Kidd       Crystal Bay, NV   \n",
            "1     Yaron Samid              Tel Aviv   \n",
            "2  Travis Russell                   NaN   \n",
            "3   ngc_3370 LION       ngc_3370 Galaxy   \n",
            "4  Justin Roberti  Nonspecificville, PA   \n",
            "\n",
            "                                    user_description        user_created  \\\n",
            "0  CEO GlobaliD (@myglobal_id), co-founder Hard Y... 2006-04-01 03:32:37   \n",
            "1  3X dad, 3X founder, investor and community bui... 2006-12-04 19:48:28   \n",
            "2  #Bitcoin | Aquaponics | Padres | https://t.co/... 2007-01-26 19:40:36   \n",
            "3  “As soon as you stop wanting or dreaming somet... 2007-03-12 07:41:16   \n",
            "4  Writer & podcast producer - Games, tech, finte... 2007-04-03 01:57:06   \n",
            "\n",
            "   user_followers  user_friends  user_favourites  user_verified  \\\n",
            "0         12868.0           132              417          False   \n",
            "1          4792.0           140             1243           True   \n",
            "2           691.0          1064            28528          False   \n",
            "3          4132.0          3476              725          False   \n",
            "4          2386.0          1919             2146          False   \n",
            "\n",
            "                  date                                               text  \\\n",
            "0  2021-02-09 01:22:36  Back in 2013 I funded my daughters college fun...   \n",
            "1  2021-02-09 10:55:08  My 6yr old son buys some #bitcoin #btc at a 20...   \n",
            "2  2021-02-09 18:22:13  There will come a time soon when enough indivi...   \n",
            "3  2021-02-09 07:31:56  A #bitcoin #btc at $400'000 soon? what's that ...   \n",
            "4  2021-02-09 18:39:15  A short #btc interview with @brockpierce I pub...   \n",
            "\n",
            "   ... open high  low close  volume  quote_asset_volume  number_of_trades  \\\n",
            "0  ...  NaN  NaN  NaN   NaN     NaN                 NaN               NaN   \n",
            "1  ...  NaN  NaN  NaN   NaN     NaN                 NaN               NaN   \n",
            "2  ...  NaN  NaN  NaN   NaN     NaN                 NaN               NaN   \n",
            "3  ...  NaN  NaN  NaN   NaN     NaN                 NaN               NaN   \n",
            "4  ...  NaN  NaN  NaN   NaN     NaN                 NaN               NaN   \n",
            "\n",
            "   taker_buy_base_asset_volume  taker_buy_quote_asset_volume  time_difference  \n",
            "0                          NaN                           NaN              NaT  \n",
            "1                          NaN                           NaN              NaT  \n",
            "2                          NaN                           NaN              NaT  \n",
            "3                          NaN                           NaN              NaT  \n",
            "4                          NaN                           NaN              NaT  \n",
            "\n",
            "[5 rows x 24 columns]\n",
            "Number of Unmatched Tweets After Removal: 0\n",
            "\n",
            "Matched Tweet and Price Data (Unmatched Removed):\n",
            "        user_name        user_location  \\\n",
            "0  Michael Arouet  Somewhere in Europe   \n",
            "1       athcrypt℗              Croatia   \n",
            "2     Wickhunterr                India   \n",
            "3           Kayth               Europe   \n",
            "4  The 1 i Am Neo      Los Angeles, CA   \n",
            "\n",
            "                                    user_description        user_created  \\\n",
            "0  Independent investor, correlation deviations b... 2017-08-17 11:22:22   \n",
            "1  MIT / UX & Product Designer / $BTC $ETH $DOGE ... 2017-08-18 09:29:07   \n",
            "2  Pure Technical Analyst 🔥\\nTrading Crypto since... 2017-08-18 14:19:50   \n",
            "3                  Software Engineer. #Bitcoin only. 2017-08-18 16:40:28   \n",
            "4                                     Bitcoin Trader 2017-08-18 17:36:59   \n",
            "\n",
            "   user_followers  user_friends  user_favourites  user_verified  \\\n",
            "0           795.0           482             1530          False   \n",
            "1           413.0           396            23026          False   \n",
            "2            80.0           167             1356          False   \n",
            "3            40.0           428             1628          False   \n",
            "4           142.0            95                3          False   \n",
            "\n",
            "                  date                                               text  \\\n",
            "0  2021-02-09 22:34:39  #Bitcoin unrealized losses must be recognized,...   \n",
            "1  2021-02-09 07:20:41  Hacked with nudes #blockfolio @blockfolio #btc...   \n",
            "2  2021-02-10 00:05:25  The So called Next BTC is waking up\\n\\n#YFI #D...   \n",
            "3  2021-02-08 19:07:28  If you want to create a bitcoin seed with dice...   \n",
            "4  2021-02-08 16:37:20  #Bitcoin #BTC #btcusd $btc https://t.co/lAMPlm...   \n",
            "\n",
            "   ...     open     high      low    close    volume  quote_asset_volume  \\\n",
            "0  ...  4474.80  4474.80  4474.80  4474.80  0.000000            0.000000   \n",
            "1  ...  4321.20  4327.25  4307.01  4307.01  0.369231         1595.893279   \n",
            "2  ...  4272.92  4272.92  4272.92  4272.92  0.107711          460.240486   \n",
            "3  ...  4266.72  4266.72  4266.72  4266.72  0.060301          257.287483   \n",
            "4  ...  4126.45  4126.45  4126.45  4126.45  0.000000            0.000000   \n",
            "\n",
            "   number_of_trades  taker_buy_base_asset_volume  \\\n",
            "0               0.0                     0.000000   \n",
            "1               7.0                     0.086659   \n",
            "2               1.0                     0.107711   \n",
            "3               1.0                     0.060301   \n",
            "4               0.0                     0.000000   \n",
            "\n",
            "   taker_buy_quote_asset_volume  time_difference  \n",
            "0                      0.000000  0 days 00:00:22  \n",
            "1                    374.904408  0 days 00:00:07  \n",
            "2                    460.240486  0 days 00:00:50  \n",
            "3                    257.287483  0 days 00:00:28  \n",
            "4                      0.000000  0 days 00:00:59  \n",
            "\n",
            "[5 rows x 24 columns]\n"
          ]
        }
      ]
    },
    {
      "cell_type": "code",
      "execution_count": 47,
      "metadata": {
        "id": "ukElN9uM3fKu"
      },
      "outputs": [],
      "source": [
        "# Remove unmatched records\n",
        "final_merged_df = final_merged_df.dropna(subset=['timestamp']).reset_index(drop=True)\n",
        "merged_df = final_merged_df"
      ]
    },
    {
      "cell_type": "code",
      "execution_count": 48,
      "metadata": {
        "colab": {
          "base_uri": "https://localhost:8080/",
          "height": 429
        },
        "id": "SuAFVdrmI7II",
        "outputId": "16c9a10c-d3d8-42d7-d54c-03193abcbb35"
      },
      "outputs": [
        {
          "output_type": "execute_result",
          "data": {
            "text/plain": [
              "        user_name        user_location  \\\n",
              "0  Michael Arouet  Somewhere in Europe   \n",
              "1       athcrypt℗              Croatia   \n",
              "2     Wickhunterr                India   \n",
              "3           Kayth               Europe   \n",
              "4  The 1 i Am Neo      Los Angeles, CA   \n",
              "\n",
              "                                    user_description        user_created  \\\n",
              "0  Independent investor, correlation deviations b... 2017-08-17 11:22:22   \n",
              "1  MIT / UX & Product Designer / $BTC $ETH $DOGE ... 2017-08-18 09:29:07   \n",
              "2  Pure Technical Analyst 🔥\\nTrading Crypto since... 2017-08-18 14:19:50   \n",
              "3                  Software Engineer. #Bitcoin only. 2017-08-18 16:40:28   \n",
              "4                                     Bitcoin Trader 2017-08-18 17:36:59   \n",
              "\n",
              "   user_followers  user_friends  user_favourites  user_verified  \\\n",
              "0           795.0           482             1530          False   \n",
              "1           413.0           396            23026          False   \n",
              "2            80.0           167             1356          False   \n",
              "3            40.0           428             1628          False   \n",
              "4           142.0            95                3          False   \n",
              "\n",
              "                  date                                               text  \\\n",
              "0  2021-02-09 22:34:39  #Bitcoin unrealized losses must be recognized,...   \n",
              "1  2021-02-09 07:20:41  Hacked with nudes #blockfolio @blockfolio #btc...   \n",
              "2  2021-02-10 00:05:25  The So called Next BTC is waking up\\n\\n#YFI #D...   \n",
              "3  2021-02-08 19:07:28  If you want to create a bitcoin seed with dice...   \n",
              "4  2021-02-08 16:37:20  #Bitcoin #BTC #btcusd $btc https://t.co/lAMPlm...   \n",
              "\n",
              "   ...     open     high      low    close    volume  quote_asset_volume  \\\n",
              "0  ...  4474.80  4474.80  4474.80  4474.80  0.000000            0.000000   \n",
              "1  ...  4321.20  4327.25  4307.01  4307.01  0.369231         1595.893279   \n",
              "2  ...  4272.92  4272.92  4272.92  4272.92  0.107711          460.240486   \n",
              "3  ...  4266.72  4266.72  4266.72  4266.72  0.060301          257.287483   \n",
              "4  ...  4126.45  4126.45  4126.45  4126.45  0.000000            0.000000   \n",
              "\n",
              "   number_of_trades  taker_buy_base_asset_volume  \\\n",
              "0               0.0                     0.000000   \n",
              "1               7.0                     0.086659   \n",
              "2               1.0                     0.107711   \n",
              "3               1.0                     0.060301   \n",
              "4               0.0                     0.000000   \n",
              "\n",
              "   taker_buy_quote_asset_volume  time_difference  \n",
              "0                      0.000000  0 days 00:00:22  \n",
              "1                    374.904408  0 days 00:00:07  \n",
              "2                    460.240486  0 days 00:00:50  \n",
              "3                    257.287483  0 days 00:00:28  \n",
              "4                      0.000000  0 days 00:00:59  \n",
              "\n",
              "[5 rows x 24 columns]"
            ],
            "text/html": [
              "\n",
              "  <div id=\"df-5794e264-b943-478f-bfbe-17cff70e8e97\" class=\"colab-df-container\">\n",
              "    <div>\n",
              "<style scoped>\n",
              "    .dataframe tbody tr th:only-of-type {\n",
              "        vertical-align: middle;\n",
              "    }\n",
              "\n",
              "    .dataframe tbody tr th {\n",
              "        vertical-align: top;\n",
              "    }\n",
              "\n",
              "    .dataframe thead th {\n",
              "        text-align: right;\n",
              "    }\n",
              "</style>\n",
              "<table border=\"1\" class=\"dataframe\">\n",
              "  <thead>\n",
              "    <tr style=\"text-align: right;\">\n",
              "      <th></th>\n",
              "      <th>user_name</th>\n",
              "      <th>user_location</th>\n",
              "      <th>user_description</th>\n",
              "      <th>user_created</th>\n",
              "      <th>user_followers</th>\n",
              "      <th>user_friends</th>\n",
              "      <th>user_favourites</th>\n",
              "      <th>user_verified</th>\n",
              "      <th>date</th>\n",
              "      <th>text</th>\n",
              "      <th>...</th>\n",
              "      <th>open</th>\n",
              "      <th>high</th>\n",
              "      <th>low</th>\n",
              "      <th>close</th>\n",
              "      <th>volume</th>\n",
              "      <th>quote_asset_volume</th>\n",
              "      <th>number_of_trades</th>\n",
              "      <th>taker_buy_base_asset_volume</th>\n",
              "      <th>taker_buy_quote_asset_volume</th>\n",
              "      <th>time_difference</th>\n",
              "    </tr>\n",
              "  </thead>\n",
              "  <tbody>\n",
              "    <tr>\n",
              "      <th>0</th>\n",
              "      <td>Michael Arouet</td>\n",
              "      <td>Somewhere in Europe</td>\n",
              "      <td>Independent investor, correlation deviations b...</td>\n",
              "      <td>2017-08-17 11:22:22</td>\n",
              "      <td>795.0</td>\n",
              "      <td>482</td>\n",
              "      <td>1530</td>\n",
              "      <td>False</td>\n",
              "      <td>2021-02-09 22:34:39</td>\n",
              "      <td>#Bitcoin unrealized losses must be recognized,...</td>\n",
              "      <td>...</td>\n",
              "      <td>4474.80</td>\n",
              "      <td>4474.80</td>\n",
              "      <td>4474.80</td>\n",
              "      <td>4474.80</td>\n",
              "      <td>0.000000</td>\n",
              "      <td>0.000000</td>\n",
              "      <td>0.0</td>\n",
              "      <td>0.000000</td>\n",
              "      <td>0.000000</td>\n",
              "      <td>0 days 00:00:22</td>\n",
              "    </tr>\n",
              "    <tr>\n",
              "      <th>1</th>\n",
              "      <td>athcrypt℗</td>\n",
              "      <td>Croatia</td>\n",
              "      <td>MIT / UX &amp; Product Designer / $BTC $ETH $DOGE ...</td>\n",
              "      <td>2017-08-18 09:29:07</td>\n",
              "      <td>413.0</td>\n",
              "      <td>396</td>\n",
              "      <td>23026</td>\n",
              "      <td>False</td>\n",
              "      <td>2021-02-09 07:20:41</td>\n",
              "      <td>Hacked with nudes #blockfolio @blockfolio #btc...</td>\n",
              "      <td>...</td>\n",
              "      <td>4321.20</td>\n",
              "      <td>4327.25</td>\n",
              "      <td>4307.01</td>\n",
              "      <td>4307.01</td>\n",
              "      <td>0.369231</td>\n",
              "      <td>1595.893279</td>\n",
              "      <td>7.0</td>\n",
              "      <td>0.086659</td>\n",
              "      <td>374.904408</td>\n",
              "      <td>0 days 00:00:07</td>\n",
              "    </tr>\n",
              "    <tr>\n",
              "      <th>2</th>\n",
              "      <td>Wickhunterr</td>\n",
              "      <td>India</td>\n",
              "      <td>Pure Technical Analyst 🔥\\nTrading Crypto since...</td>\n",
              "      <td>2017-08-18 14:19:50</td>\n",
              "      <td>80.0</td>\n",
              "      <td>167</td>\n",
              "      <td>1356</td>\n",
              "      <td>False</td>\n",
              "      <td>2021-02-10 00:05:25</td>\n",
              "      <td>The So called Next BTC is waking up\\n\\n#YFI #D...</td>\n",
              "      <td>...</td>\n",
              "      <td>4272.92</td>\n",
              "      <td>4272.92</td>\n",
              "      <td>4272.92</td>\n",
              "      <td>4272.92</td>\n",
              "      <td>0.107711</td>\n",
              "      <td>460.240486</td>\n",
              "      <td>1.0</td>\n",
              "      <td>0.107711</td>\n",
              "      <td>460.240486</td>\n",
              "      <td>0 days 00:00:50</td>\n",
              "    </tr>\n",
              "    <tr>\n",
              "      <th>3</th>\n",
              "      <td>Kayth</td>\n",
              "      <td>Europe</td>\n",
              "      <td>Software Engineer. #Bitcoin only.</td>\n",
              "      <td>2017-08-18 16:40:28</td>\n",
              "      <td>40.0</td>\n",
              "      <td>428</td>\n",
              "      <td>1628</td>\n",
              "      <td>False</td>\n",
              "      <td>2021-02-08 19:07:28</td>\n",
              "      <td>If you want to create a bitcoin seed with dice...</td>\n",
              "      <td>...</td>\n",
              "      <td>4266.72</td>\n",
              "      <td>4266.72</td>\n",
              "      <td>4266.72</td>\n",
              "      <td>4266.72</td>\n",
              "      <td>0.060301</td>\n",
              "      <td>257.287483</td>\n",
              "      <td>1.0</td>\n",
              "      <td>0.060301</td>\n",
              "      <td>257.287483</td>\n",
              "      <td>0 days 00:00:28</td>\n",
              "    </tr>\n",
              "    <tr>\n",
              "      <th>4</th>\n",
              "      <td>The 1 i Am Neo</td>\n",
              "      <td>Los Angeles, CA</td>\n",
              "      <td>Bitcoin Trader</td>\n",
              "      <td>2017-08-18 17:36:59</td>\n",
              "      <td>142.0</td>\n",
              "      <td>95</td>\n",
              "      <td>3</td>\n",
              "      <td>False</td>\n",
              "      <td>2021-02-08 16:37:20</td>\n",
              "      <td>#Bitcoin #BTC #btcusd $btc https://t.co/lAMPlm...</td>\n",
              "      <td>...</td>\n",
              "      <td>4126.45</td>\n",
              "      <td>4126.45</td>\n",
              "      <td>4126.45</td>\n",
              "      <td>4126.45</td>\n",
              "      <td>0.000000</td>\n",
              "      <td>0.000000</td>\n",
              "      <td>0.0</td>\n",
              "      <td>0.000000</td>\n",
              "      <td>0.000000</td>\n",
              "      <td>0 days 00:00:59</td>\n",
              "    </tr>\n",
              "  </tbody>\n",
              "</table>\n",
              "<p>5 rows × 24 columns</p>\n",
              "</div>\n",
              "    <div class=\"colab-df-buttons\">\n",
              "\n",
              "  <div class=\"colab-df-container\">\n",
              "    <button class=\"colab-df-convert\" onclick=\"convertToInteractive('df-5794e264-b943-478f-bfbe-17cff70e8e97')\"\n",
              "            title=\"Convert this dataframe to an interactive table.\"\n",
              "            style=\"display:none;\">\n",
              "\n",
              "  <svg xmlns=\"http://www.w3.org/2000/svg\" height=\"24px\" viewBox=\"0 -960 960 960\">\n",
              "    <path d=\"M120-120v-720h720v720H120Zm60-500h600v-160H180v160Zm220 220h160v-160H400v160Zm0 220h160v-160H400v160ZM180-400h160v-160H180v160Zm440 0h160v-160H620v160ZM180-180h160v-160H180v160Zm440 0h160v-160H620v160Z\"/>\n",
              "  </svg>\n",
              "    </button>\n",
              "\n",
              "  <style>\n",
              "    .colab-df-container {\n",
              "      display:flex;\n",
              "      gap: 12px;\n",
              "    }\n",
              "\n",
              "    .colab-df-convert {\n",
              "      background-color: #E8F0FE;\n",
              "      border: none;\n",
              "      border-radius: 50%;\n",
              "      cursor: pointer;\n",
              "      display: none;\n",
              "      fill: #1967D2;\n",
              "      height: 32px;\n",
              "      padding: 0 0 0 0;\n",
              "      width: 32px;\n",
              "    }\n",
              "\n",
              "    .colab-df-convert:hover {\n",
              "      background-color: #E2EBFA;\n",
              "      box-shadow: 0px 1px 2px rgba(60, 64, 67, 0.3), 0px 1px 3px 1px rgba(60, 64, 67, 0.15);\n",
              "      fill: #174EA6;\n",
              "    }\n",
              "\n",
              "    .colab-df-buttons div {\n",
              "      margin-bottom: 4px;\n",
              "    }\n",
              "\n",
              "    [theme=dark] .colab-df-convert {\n",
              "      background-color: #3B4455;\n",
              "      fill: #D2E3FC;\n",
              "    }\n",
              "\n",
              "    [theme=dark] .colab-df-convert:hover {\n",
              "      background-color: #434B5C;\n",
              "      box-shadow: 0px 1px 3px 1px rgba(0, 0, 0, 0.15);\n",
              "      filter: drop-shadow(0px 1px 2px rgba(0, 0, 0, 0.3));\n",
              "      fill: #FFFFFF;\n",
              "    }\n",
              "  </style>\n",
              "\n",
              "    <script>\n",
              "      const buttonEl =\n",
              "        document.querySelector('#df-5794e264-b943-478f-bfbe-17cff70e8e97 button.colab-df-convert');\n",
              "      buttonEl.style.display =\n",
              "        google.colab.kernel.accessAllowed ? 'block' : 'none';\n",
              "\n",
              "      async function convertToInteractive(key) {\n",
              "        const element = document.querySelector('#df-5794e264-b943-478f-bfbe-17cff70e8e97');\n",
              "        const dataTable =\n",
              "          await google.colab.kernel.invokeFunction('convertToInteractive',\n",
              "                                                    [key], {});\n",
              "        if (!dataTable) return;\n",
              "\n",
              "        const docLinkHtml = 'Like what you see? Visit the ' +\n",
              "          '<a target=\"_blank\" href=https://colab.research.google.com/notebooks/data_table.ipynb>data table notebook</a>'\n",
              "          + ' to learn more about interactive tables.';\n",
              "        element.innerHTML = '';\n",
              "        dataTable['output_type'] = 'display_data';\n",
              "        await google.colab.output.renderOutput(dataTable, element);\n",
              "        const docLink = document.createElement('div');\n",
              "        docLink.innerHTML = docLinkHtml;\n",
              "        element.appendChild(docLink);\n",
              "      }\n",
              "    </script>\n",
              "  </div>\n",
              "\n",
              "\n",
              "<div id=\"df-72497ae7-748f-4816-8340-7bd11e9316e7\">\n",
              "  <button class=\"colab-df-quickchart\" onclick=\"quickchart('df-72497ae7-748f-4816-8340-7bd11e9316e7')\"\n",
              "            title=\"Suggest charts\"\n",
              "            style=\"display:none;\">\n",
              "\n",
              "<svg xmlns=\"http://www.w3.org/2000/svg\" height=\"24px\"viewBox=\"0 0 24 24\"\n",
              "     width=\"24px\">\n",
              "    <g>\n",
              "        <path d=\"M19 3H5c-1.1 0-2 .9-2 2v14c0 1.1.9 2 2 2h14c1.1 0 2-.9 2-2V5c0-1.1-.9-2-2-2zM9 17H7v-7h2v7zm4 0h-2V7h2v10zm4 0h-2v-4h2v4z\"/>\n",
              "    </g>\n",
              "</svg>\n",
              "  </button>\n",
              "\n",
              "<style>\n",
              "  .colab-df-quickchart {\n",
              "      --bg-color: #E8F0FE;\n",
              "      --fill-color: #1967D2;\n",
              "      --hover-bg-color: #E2EBFA;\n",
              "      --hover-fill-color: #174EA6;\n",
              "      --disabled-fill-color: #AAA;\n",
              "      --disabled-bg-color: #DDD;\n",
              "  }\n",
              "\n",
              "  [theme=dark] .colab-df-quickchart {\n",
              "      --bg-color: #3B4455;\n",
              "      --fill-color: #D2E3FC;\n",
              "      --hover-bg-color: #434B5C;\n",
              "      --hover-fill-color: #FFFFFF;\n",
              "      --disabled-bg-color: #3B4455;\n",
              "      --disabled-fill-color: #666;\n",
              "  }\n",
              "\n",
              "  .colab-df-quickchart {\n",
              "    background-color: var(--bg-color);\n",
              "    border: none;\n",
              "    border-radius: 50%;\n",
              "    cursor: pointer;\n",
              "    display: none;\n",
              "    fill: var(--fill-color);\n",
              "    height: 32px;\n",
              "    padding: 0;\n",
              "    width: 32px;\n",
              "  }\n",
              "\n",
              "  .colab-df-quickchart:hover {\n",
              "    background-color: var(--hover-bg-color);\n",
              "    box-shadow: 0 1px 2px rgba(60, 64, 67, 0.3), 0 1px 3px 1px rgba(60, 64, 67, 0.15);\n",
              "    fill: var(--button-hover-fill-color);\n",
              "  }\n",
              "\n",
              "  .colab-df-quickchart-complete:disabled,\n",
              "  .colab-df-quickchart-complete:disabled:hover {\n",
              "    background-color: var(--disabled-bg-color);\n",
              "    fill: var(--disabled-fill-color);\n",
              "    box-shadow: none;\n",
              "  }\n",
              "\n",
              "  .colab-df-spinner {\n",
              "    border: 2px solid var(--fill-color);\n",
              "    border-color: transparent;\n",
              "    border-bottom-color: var(--fill-color);\n",
              "    animation:\n",
              "      spin 1s steps(1) infinite;\n",
              "  }\n",
              "\n",
              "  @keyframes spin {\n",
              "    0% {\n",
              "      border-color: transparent;\n",
              "      border-bottom-color: var(--fill-color);\n",
              "      border-left-color: var(--fill-color);\n",
              "    }\n",
              "    20% {\n",
              "      border-color: transparent;\n",
              "      border-left-color: var(--fill-color);\n",
              "      border-top-color: var(--fill-color);\n",
              "    }\n",
              "    30% {\n",
              "      border-color: transparent;\n",
              "      border-left-color: var(--fill-color);\n",
              "      border-top-color: var(--fill-color);\n",
              "      border-right-color: var(--fill-color);\n",
              "    }\n",
              "    40% {\n",
              "      border-color: transparent;\n",
              "      border-right-color: var(--fill-color);\n",
              "      border-top-color: var(--fill-color);\n",
              "    }\n",
              "    60% {\n",
              "      border-color: transparent;\n",
              "      border-right-color: var(--fill-color);\n",
              "    }\n",
              "    80% {\n",
              "      border-color: transparent;\n",
              "      border-right-color: var(--fill-color);\n",
              "      border-bottom-color: var(--fill-color);\n",
              "    }\n",
              "    90% {\n",
              "      border-color: transparent;\n",
              "      border-bottom-color: var(--fill-color);\n",
              "    }\n",
              "  }\n",
              "</style>\n",
              "\n",
              "  <script>\n",
              "    async function quickchart(key) {\n",
              "      const quickchartButtonEl =\n",
              "        document.querySelector('#' + key + ' button');\n",
              "      quickchartButtonEl.disabled = true;  // To prevent multiple clicks.\n",
              "      quickchartButtonEl.classList.add('colab-df-spinner');\n",
              "      try {\n",
              "        const charts = await google.colab.kernel.invokeFunction(\n",
              "            'suggestCharts', [key], {});\n",
              "      } catch (error) {\n",
              "        console.error('Error during call to suggestCharts:', error);\n",
              "      }\n",
              "      quickchartButtonEl.classList.remove('colab-df-spinner');\n",
              "      quickchartButtonEl.classList.add('colab-df-quickchart-complete');\n",
              "    }\n",
              "    (() => {\n",
              "      let quickchartButtonEl =\n",
              "        document.querySelector('#df-72497ae7-748f-4816-8340-7bd11e9316e7 button');\n",
              "      quickchartButtonEl.style.display =\n",
              "        google.colab.kernel.accessAllowed ? 'block' : 'none';\n",
              "    })();\n",
              "  </script>\n",
              "</div>\n",
              "\n",
              "    </div>\n",
              "  </div>\n"
            ],
            "application/vnd.google.colaboratory.intrinsic+json": {
              "type": "dataframe",
              "variable_name": "merged_df"
            }
          },
          "metadata": {},
          "execution_count": 48
        }
      ],
      "source": [
        "merged_df.head()"
      ]
    },
    {
      "cell_type": "code",
      "execution_count": 49,
      "metadata": {
        "id": "w7VBHMKnvOev"
      },
      "outputs": [],
      "source": [
        "merged_df = merged_df.drop('user_location', axis=1)"
      ]
    },
    {
      "cell_type": "code",
      "execution_count": 50,
      "metadata": {
        "id": "vNyFM9f_u7q5",
        "colab": {
          "base_uri": "https://localhost:8080/"
        },
        "outputId": "7cd59dfa-3478-45f1-a43a-e1ae158b782b"
      },
      "outputs": [
        {
          "output_type": "execute_result",
          "data": {
            "text/plain": [
              "Index(['user_name', 'user_description', 'user_created', 'user_followers',\n",
              "       'user_friends', 'user_favourites', 'user_verified', 'date', 'text',\n",
              "       'hashtags', 'source', 'is_retweet', 'timestamp', 'open', 'high', 'low',\n",
              "       'close', 'volume', 'quote_asset_volume', 'number_of_trades',\n",
              "       'taker_buy_base_asset_volume', 'taker_buy_quote_asset_volume',\n",
              "       'time_difference'],\n",
              "      dtype='object')"
            ]
          },
          "metadata": {},
          "execution_count": 50
        }
      ],
      "source": [
        "merged_df.columns"
      ]
    },
    {
      "cell_type": "code",
      "execution_count": 51,
      "metadata": {
        "id": "5dP3v768JD3P",
        "colab": {
          "base_uri": "https://localhost:8080/"
        },
        "outputId": "07b933ab-c052-4b37-db0d-3f03aeddaf21"
      },
      "outputs": [
        {
          "output_type": "execute_result",
          "data": {
            "text/plain": [
              "2415"
            ]
          },
          "metadata": {},
          "execution_count": 51
        }
      ],
      "source": [
        "merged_df.shape[0]"
      ]
    },
    {
      "cell_type": "markdown",
      "source": [
        "## Preprocess"
      ],
      "metadata": {
        "id": "jHkzeqCL3d84"
      }
    },
    {
      "cell_type": "code",
      "execution_count": 52,
      "metadata": {
        "id": "E-q1kkGSK3IX"
      },
      "outputs": [],
      "source": [
        "def preprocess_text(text):\n",
        "    text = emoji.demojize(text)\n",
        "    text = text.lower()\n",
        "    text = text.translate(str.maketrans('', '', string.punctuation))\n",
        "    text = re.sub(r'\\d+', '', text)\n",
        "    stop_words = set(stopwords.words('english'))\n",
        "    text = ' '.join([word for word in word_tokenize(text) if word not in stop_words])\n",
        "    lemmatizer = WordNetLemmatizer()\n",
        "    text = ' '.join([lemmatizer.lemmatize(word) for word in word_tokenize(text)])\n",
        "    return text\n",
        "\n"
      ]
    },
    {
      "cell_type": "code",
      "execution_count": 53,
      "metadata": {
        "colab": {
          "base_uri": "https://localhost:8080/"
        },
        "id": "AeMjVPGUzjXU",
        "outputId": "58bb1eaa-e707-4085-dd03-8017aae8f3b7"
      },
      "outputs": [
        {
          "output_type": "execute_result",
          "data": {
            "text/plain": [
              "2415"
            ]
          },
          "metadata": {},
          "execution_count": 53
        }
      ],
      "source": [
        "len(merged_df)"
      ]
    },
    {
      "cell_type": "code",
      "execution_count": 54,
      "metadata": {
        "id": "D5XzaEFMLQGR"
      },
      "outputs": [],
      "source": [
        "merged_df['text'] = merged_df['text'].apply(preprocess_text)\n"
      ]
    },
    {
      "cell_type": "code",
      "execution_count": 55,
      "metadata": {
        "colab": {
          "base_uri": "https://localhost:8080/",
          "height": 516
        },
        "id": "_YkSHR2DLUU5",
        "outputId": "f6e7151d-4666-4b8c-83c4-f6e3710d1b79"
      },
      "outputs": [
        {
          "output_type": "execute_result",
          "data": {
            "text/plain": [
              "        user_name                                   user_description  \\\n",
              "0  Michael Arouet  Independent investor, correlation deviations b...   \n",
              "1       athcrypt℗  MIT / UX & Product Designer / $BTC $ETH $DOGE ...   \n",
              "2     Wickhunterr  Pure Technical Analyst 🔥\\nTrading Crypto since...   \n",
              "3           Kayth                  Software Engineer. #Bitcoin only.   \n",
              "4  The 1 i Am Neo                                     Bitcoin Trader   \n",
              "\n",
              "         user_created  user_followers  user_friends  user_favourites  \\\n",
              "0 2017-08-17 11:22:22           795.0           482             1530   \n",
              "1 2017-08-18 09:29:07           413.0           396            23026   \n",
              "2 2017-08-18 14:19:50            80.0           167             1356   \n",
              "3 2017-08-18 16:40:28            40.0           428             1628   \n",
              "4 2017-08-18 17:36:59           142.0            95                3   \n",
              "\n",
              "   user_verified                 date  \\\n",
              "0          False  2021-02-09 22:34:39   \n",
              "1          False  2021-02-09 07:20:41   \n",
              "2          False  2021-02-10 00:05:25   \n",
              "3          False  2021-02-08 19:07:28   \n",
              "4          False  2021-02-08 16:37:20   \n",
              "\n",
              "                                                text  \\\n",
              "0  bitcoin unrealized loss must recognized unreal...   \n",
              "1  hacked nude blockfolio blockfolio btc bitcoin ...   \n",
              "2  called next btc waking yfi defi btc binance bi...   \n",
              "3  want create bitcoin seed dice roll time roll d...   \n",
              "4  bitcoin btc btcusd btc httpstcolamplmodt live ...   \n",
              "\n",
              "                                            hashtags  ...     open     high  \\\n",
              "0                                 ['Bitcoin', 'BTC']  ...  4474.80  4474.80   \n",
              "1       ['blockfolio', 'btc', 'bitcoin', 'ethereum']  ...  4321.20  4327.25   \n",
              "2  ['YFI', 'DeFi', 'BTC', 'Binance', 'Bitcoin', '...  ...  4272.92  4272.92   \n",
              "3                                                NaN  ...  4266.72  4266.72   \n",
              "4                       ['Bitcoin', 'BTC', 'btcusd']  ...  4126.45  4126.45   \n",
              "\n",
              "       low    close    volume  quote_asset_volume  number_of_trades  \\\n",
              "0  4474.80  4474.80  0.000000            0.000000               0.0   \n",
              "1  4307.01  4307.01  0.369231         1595.893279               7.0   \n",
              "2  4272.92  4272.92  0.107711          460.240486               1.0   \n",
              "3  4266.72  4266.72  0.060301          257.287483               1.0   \n",
              "4  4126.45  4126.45  0.000000            0.000000               0.0   \n",
              "\n",
              "   taker_buy_base_asset_volume  taker_buy_quote_asset_volume  time_difference  \n",
              "0                     0.000000                      0.000000  0 days 00:00:22  \n",
              "1                     0.086659                    374.904408  0 days 00:00:07  \n",
              "2                     0.107711                    460.240486  0 days 00:00:50  \n",
              "3                     0.060301                    257.287483  0 days 00:00:28  \n",
              "4                     0.000000                      0.000000  0 days 00:00:59  \n",
              "\n",
              "[5 rows x 23 columns]"
            ],
            "text/html": [
              "\n",
              "  <div id=\"df-950bcea5-5863-4525-9ea6-d2538c34dfe6\" class=\"colab-df-container\">\n",
              "    <div>\n",
              "<style scoped>\n",
              "    .dataframe tbody tr th:only-of-type {\n",
              "        vertical-align: middle;\n",
              "    }\n",
              "\n",
              "    .dataframe tbody tr th {\n",
              "        vertical-align: top;\n",
              "    }\n",
              "\n",
              "    .dataframe thead th {\n",
              "        text-align: right;\n",
              "    }\n",
              "</style>\n",
              "<table border=\"1\" class=\"dataframe\">\n",
              "  <thead>\n",
              "    <tr style=\"text-align: right;\">\n",
              "      <th></th>\n",
              "      <th>user_name</th>\n",
              "      <th>user_description</th>\n",
              "      <th>user_created</th>\n",
              "      <th>user_followers</th>\n",
              "      <th>user_friends</th>\n",
              "      <th>user_favourites</th>\n",
              "      <th>user_verified</th>\n",
              "      <th>date</th>\n",
              "      <th>text</th>\n",
              "      <th>hashtags</th>\n",
              "      <th>...</th>\n",
              "      <th>open</th>\n",
              "      <th>high</th>\n",
              "      <th>low</th>\n",
              "      <th>close</th>\n",
              "      <th>volume</th>\n",
              "      <th>quote_asset_volume</th>\n",
              "      <th>number_of_trades</th>\n",
              "      <th>taker_buy_base_asset_volume</th>\n",
              "      <th>taker_buy_quote_asset_volume</th>\n",
              "      <th>time_difference</th>\n",
              "    </tr>\n",
              "  </thead>\n",
              "  <tbody>\n",
              "    <tr>\n",
              "      <th>0</th>\n",
              "      <td>Michael Arouet</td>\n",
              "      <td>Independent investor, correlation deviations b...</td>\n",
              "      <td>2017-08-17 11:22:22</td>\n",
              "      <td>795.0</td>\n",
              "      <td>482</td>\n",
              "      <td>1530</td>\n",
              "      <td>False</td>\n",
              "      <td>2021-02-09 22:34:39</td>\n",
              "      <td>bitcoin unrealized loss must recognized unreal...</td>\n",
              "      <td>['Bitcoin', 'BTC']</td>\n",
              "      <td>...</td>\n",
              "      <td>4474.80</td>\n",
              "      <td>4474.80</td>\n",
              "      <td>4474.80</td>\n",
              "      <td>4474.80</td>\n",
              "      <td>0.000000</td>\n",
              "      <td>0.000000</td>\n",
              "      <td>0.0</td>\n",
              "      <td>0.000000</td>\n",
              "      <td>0.000000</td>\n",
              "      <td>0 days 00:00:22</td>\n",
              "    </tr>\n",
              "    <tr>\n",
              "      <th>1</th>\n",
              "      <td>athcrypt℗</td>\n",
              "      <td>MIT / UX &amp; Product Designer / $BTC $ETH $DOGE ...</td>\n",
              "      <td>2017-08-18 09:29:07</td>\n",
              "      <td>413.0</td>\n",
              "      <td>396</td>\n",
              "      <td>23026</td>\n",
              "      <td>False</td>\n",
              "      <td>2021-02-09 07:20:41</td>\n",
              "      <td>hacked nude blockfolio blockfolio btc bitcoin ...</td>\n",
              "      <td>['blockfolio', 'btc', 'bitcoin', 'ethereum']</td>\n",
              "      <td>...</td>\n",
              "      <td>4321.20</td>\n",
              "      <td>4327.25</td>\n",
              "      <td>4307.01</td>\n",
              "      <td>4307.01</td>\n",
              "      <td>0.369231</td>\n",
              "      <td>1595.893279</td>\n",
              "      <td>7.0</td>\n",
              "      <td>0.086659</td>\n",
              "      <td>374.904408</td>\n",
              "      <td>0 days 00:00:07</td>\n",
              "    </tr>\n",
              "    <tr>\n",
              "      <th>2</th>\n",
              "      <td>Wickhunterr</td>\n",
              "      <td>Pure Technical Analyst 🔥\\nTrading Crypto since...</td>\n",
              "      <td>2017-08-18 14:19:50</td>\n",
              "      <td>80.0</td>\n",
              "      <td>167</td>\n",
              "      <td>1356</td>\n",
              "      <td>False</td>\n",
              "      <td>2021-02-10 00:05:25</td>\n",
              "      <td>called next btc waking yfi defi btc binance bi...</td>\n",
              "      <td>['YFI', 'DeFi', 'BTC', 'Binance', 'Bitcoin', '...</td>\n",
              "      <td>...</td>\n",
              "      <td>4272.92</td>\n",
              "      <td>4272.92</td>\n",
              "      <td>4272.92</td>\n",
              "      <td>4272.92</td>\n",
              "      <td>0.107711</td>\n",
              "      <td>460.240486</td>\n",
              "      <td>1.0</td>\n",
              "      <td>0.107711</td>\n",
              "      <td>460.240486</td>\n",
              "      <td>0 days 00:00:50</td>\n",
              "    </tr>\n",
              "    <tr>\n",
              "      <th>3</th>\n",
              "      <td>Kayth</td>\n",
              "      <td>Software Engineer. #Bitcoin only.</td>\n",
              "      <td>2017-08-18 16:40:28</td>\n",
              "      <td>40.0</td>\n",
              "      <td>428</td>\n",
              "      <td>1628</td>\n",
              "      <td>False</td>\n",
              "      <td>2021-02-08 19:07:28</td>\n",
              "      <td>want create bitcoin seed dice roll time roll d...</td>\n",
              "      <td>NaN</td>\n",
              "      <td>...</td>\n",
              "      <td>4266.72</td>\n",
              "      <td>4266.72</td>\n",
              "      <td>4266.72</td>\n",
              "      <td>4266.72</td>\n",
              "      <td>0.060301</td>\n",
              "      <td>257.287483</td>\n",
              "      <td>1.0</td>\n",
              "      <td>0.060301</td>\n",
              "      <td>257.287483</td>\n",
              "      <td>0 days 00:00:28</td>\n",
              "    </tr>\n",
              "    <tr>\n",
              "      <th>4</th>\n",
              "      <td>The 1 i Am Neo</td>\n",
              "      <td>Bitcoin Trader</td>\n",
              "      <td>2017-08-18 17:36:59</td>\n",
              "      <td>142.0</td>\n",
              "      <td>95</td>\n",
              "      <td>3</td>\n",
              "      <td>False</td>\n",
              "      <td>2021-02-08 16:37:20</td>\n",
              "      <td>bitcoin btc btcusd btc httpstcolamplmodt live ...</td>\n",
              "      <td>['Bitcoin', 'BTC', 'btcusd']</td>\n",
              "      <td>...</td>\n",
              "      <td>4126.45</td>\n",
              "      <td>4126.45</td>\n",
              "      <td>4126.45</td>\n",
              "      <td>4126.45</td>\n",
              "      <td>0.000000</td>\n",
              "      <td>0.000000</td>\n",
              "      <td>0.0</td>\n",
              "      <td>0.000000</td>\n",
              "      <td>0.000000</td>\n",
              "      <td>0 days 00:00:59</td>\n",
              "    </tr>\n",
              "  </tbody>\n",
              "</table>\n",
              "<p>5 rows × 23 columns</p>\n",
              "</div>\n",
              "    <div class=\"colab-df-buttons\">\n",
              "\n",
              "  <div class=\"colab-df-container\">\n",
              "    <button class=\"colab-df-convert\" onclick=\"convertToInteractive('df-950bcea5-5863-4525-9ea6-d2538c34dfe6')\"\n",
              "            title=\"Convert this dataframe to an interactive table.\"\n",
              "            style=\"display:none;\">\n",
              "\n",
              "  <svg xmlns=\"http://www.w3.org/2000/svg\" height=\"24px\" viewBox=\"0 -960 960 960\">\n",
              "    <path d=\"M120-120v-720h720v720H120Zm60-500h600v-160H180v160Zm220 220h160v-160H400v160Zm0 220h160v-160H400v160ZM180-400h160v-160H180v160Zm440 0h160v-160H620v160ZM180-180h160v-160H180v160Zm440 0h160v-160H620v160Z\"/>\n",
              "  </svg>\n",
              "    </button>\n",
              "\n",
              "  <style>\n",
              "    .colab-df-container {\n",
              "      display:flex;\n",
              "      gap: 12px;\n",
              "    }\n",
              "\n",
              "    .colab-df-convert {\n",
              "      background-color: #E8F0FE;\n",
              "      border: none;\n",
              "      border-radius: 50%;\n",
              "      cursor: pointer;\n",
              "      display: none;\n",
              "      fill: #1967D2;\n",
              "      height: 32px;\n",
              "      padding: 0 0 0 0;\n",
              "      width: 32px;\n",
              "    }\n",
              "\n",
              "    .colab-df-convert:hover {\n",
              "      background-color: #E2EBFA;\n",
              "      box-shadow: 0px 1px 2px rgba(60, 64, 67, 0.3), 0px 1px 3px 1px rgba(60, 64, 67, 0.15);\n",
              "      fill: #174EA6;\n",
              "    }\n",
              "\n",
              "    .colab-df-buttons div {\n",
              "      margin-bottom: 4px;\n",
              "    }\n",
              "\n",
              "    [theme=dark] .colab-df-convert {\n",
              "      background-color: #3B4455;\n",
              "      fill: #D2E3FC;\n",
              "    }\n",
              "\n",
              "    [theme=dark] .colab-df-convert:hover {\n",
              "      background-color: #434B5C;\n",
              "      box-shadow: 0px 1px 3px 1px rgba(0, 0, 0, 0.15);\n",
              "      filter: drop-shadow(0px 1px 2px rgba(0, 0, 0, 0.3));\n",
              "      fill: #FFFFFF;\n",
              "    }\n",
              "  </style>\n",
              "\n",
              "    <script>\n",
              "      const buttonEl =\n",
              "        document.querySelector('#df-950bcea5-5863-4525-9ea6-d2538c34dfe6 button.colab-df-convert');\n",
              "      buttonEl.style.display =\n",
              "        google.colab.kernel.accessAllowed ? 'block' : 'none';\n",
              "\n",
              "      async function convertToInteractive(key) {\n",
              "        const element = document.querySelector('#df-950bcea5-5863-4525-9ea6-d2538c34dfe6');\n",
              "        const dataTable =\n",
              "          await google.colab.kernel.invokeFunction('convertToInteractive',\n",
              "                                                    [key], {});\n",
              "        if (!dataTable) return;\n",
              "\n",
              "        const docLinkHtml = 'Like what you see? Visit the ' +\n",
              "          '<a target=\"_blank\" href=https://colab.research.google.com/notebooks/data_table.ipynb>data table notebook</a>'\n",
              "          + ' to learn more about interactive tables.';\n",
              "        element.innerHTML = '';\n",
              "        dataTable['output_type'] = 'display_data';\n",
              "        await google.colab.output.renderOutput(dataTable, element);\n",
              "        const docLink = document.createElement('div');\n",
              "        docLink.innerHTML = docLinkHtml;\n",
              "        element.appendChild(docLink);\n",
              "      }\n",
              "    </script>\n",
              "  </div>\n",
              "\n",
              "\n",
              "<div id=\"df-a053c616-6879-44b7-9abe-728f916ed083\">\n",
              "  <button class=\"colab-df-quickchart\" onclick=\"quickchart('df-a053c616-6879-44b7-9abe-728f916ed083')\"\n",
              "            title=\"Suggest charts\"\n",
              "            style=\"display:none;\">\n",
              "\n",
              "<svg xmlns=\"http://www.w3.org/2000/svg\" height=\"24px\"viewBox=\"0 0 24 24\"\n",
              "     width=\"24px\">\n",
              "    <g>\n",
              "        <path d=\"M19 3H5c-1.1 0-2 .9-2 2v14c0 1.1.9 2 2 2h14c1.1 0 2-.9 2-2V5c0-1.1-.9-2-2-2zM9 17H7v-7h2v7zm4 0h-2V7h2v10zm4 0h-2v-4h2v4z\"/>\n",
              "    </g>\n",
              "</svg>\n",
              "  </button>\n",
              "\n",
              "<style>\n",
              "  .colab-df-quickchart {\n",
              "      --bg-color: #E8F0FE;\n",
              "      --fill-color: #1967D2;\n",
              "      --hover-bg-color: #E2EBFA;\n",
              "      --hover-fill-color: #174EA6;\n",
              "      --disabled-fill-color: #AAA;\n",
              "      --disabled-bg-color: #DDD;\n",
              "  }\n",
              "\n",
              "  [theme=dark] .colab-df-quickchart {\n",
              "      --bg-color: #3B4455;\n",
              "      --fill-color: #D2E3FC;\n",
              "      --hover-bg-color: #434B5C;\n",
              "      --hover-fill-color: #FFFFFF;\n",
              "      --disabled-bg-color: #3B4455;\n",
              "      --disabled-fill-color: #666;\n",
              "  }\n",
              "\n",
              "  .colab-df-quickchart {\n",
              "    background-color: var(--bg-color);\n",
              "    border: none;\n",
              "    border-radius: 50%;\n",
              "    cursor: pointer;\n",
              "    display: none;\n",
              "    fill: var(--fill-color);\n",
              "    height: 32px;\n",
              "    padding: 0;\n",
              "    width: 32px;\n",
              "  }\n",
              "\n",
              "  .colab-df-quickchart:hover {\n",
              "    background-color: var(--hover-bg-color);\n",
              "    box-shadow: 0 1px 2px rgba(60, 64, 67, 0.3), 0 1px 3px 1px rgba(60, 64, 67, 0.15);\n",
              "    fill: var(--button-hover-fill-color);\n",
              "  }\n",
              "\n",
              "  .colab-df-quickchart-complete:disabled,\n",
              "  .colab-df-quickchart-complete:disabled:hover {\n",
              "    background-color: var(--disabled-bg-color);\n",
              "    fill: var(--disabled-fill-color);\n",
              "    box-shadow: none;\n",
              "  }\n",
              "\n",
              "  .colab-df-spinner {\n",
              "    border: 2px solid var(--fill-color);\n",
              "    border-color: transparent;\n",
              "    border-bottom-color: var(--fill-color);\n",
              "    animation:\n",
              "      spin 1s steps(1) infinite;\n",
              "  }\n",
              "\n",
              "  @keyframes spin {\n",
              "    0% {\n",
              "      border-color: transparent;\n",
              "      border-bottom-color: var(--fill-color);\n",
              "      border-left-color: var(--fill-color);\n",
              "    }\n",
              "    20% {\n",
              "      border-color: transparent;\n",
              "      border-left-color: var(--fill-color);\n",
              "      border-top-color: var(--fill-color);\n",
              "    }\n",
              "    30% {\n",
              "      border-color: transparent;\n",
              "      border-left-color: var(--fill-color);\n",
              "      border-top-color: var(--fill-color);\n",
              "      border-right-color: var(--fill-color);\n",
              "    }\n",
              "    40% {\n",
              "      border-color: transparent;\n",
              "      border-right-color: var(--fill-color);\n",
              "      border-top-color: var(--fill-color);\n",
              "    }\n",
              "    60% {\n",
              "      border-color: transparent;\n",
              "      border-right-color: var(--fill-color);\n",
              "    }\n",
              "    80% {\n",
              "      border-color: transparent;\n",
              "      border-right-color: var(--fill-color);\n",
              "      border-bottom-color: var(--fill-color);\n",
              "    }\n",
              "    90% {\n",
              "      border-color: transparent;\n",
              "      border-bottom-color: var(--fill-color);\n",
              "    }\n",
              "  }\n",
              "</style>\n",
              "\n",
              "  <script>\n",
              "    async function quickchart(key) {\n",
              "      const quickchartButtonEl =\n",
              "        document.querySelector('#' + key + ' button');\n",
              "      quickchartButtonEl.disabled = true;  // To prevent multiple clicks.\n",
              "      quickchartButtonEl.classList.add('colab-df-spinner');\n",
              "      try {\n",
              "        const charts = await google.colab.kernel.invokeFunction(\n",
              "            'suggestCharts', [key], {});\n",
              "      } catch (error) {\n",
              "        console.error('Error during call to suggestCharts:', error);\n",
              "      }\n",
              "      quickchartButtonEl.classList.remove('colab-df-spinner');\n",
              "      quickchartButtonEl.classList.add('colab-df-quickchart-complete');\n",
              "    }\n",
              "    (() => {\n",
              "      let quickchartButtonEl =\n",
              "        document.querySelector('#df-a053c616-6879-44b7-9abe-728f916ed083 button');\n",
              "      quickchartButtonEl.style.display =\n",
              "        google.colab.kernel.accessAllowed ? 'block' : 'none';\n",
              "    })();\n",
              "  </script>\n",
              "</div>\n",
              "\n",
              "    </div>\n",
              "  </div>\n"
            ],
            "application/vnd.google.colaboratory.intrinsic+json": {
              "type": "dataframe",
              "variable_name": "merged_df"
            }
          },
          "metadata": {},
          "execution_count": 55
        }
      ],
      "source": [
        "merged_df.head()"
      ]
    },
    {
      "cell_type": "code",
      "execution_count": 56,
      "metadata": {
        "id": "LL3ANASmZOVJ"
      },
      "outputs": [],
      "source": [
        "import gensim\n",
        "import pandas as pd\n",
        "import numpy as np\n",
        "from sklearn.linear_model import LogisticRegression\n",
        "from sklearn.model_selection import train_test_split\n",
        "from sklearn.metrics import accuracy_score, classification_report\n",
        "import pickle\n"
      ]
    },
    {
      "cell_type": "markdown",
      "source": [
        "## Word2Vec"
      ],
      "metadata": {
        "id": "t4k4Jq6B3iaw"
      }
    },
    {
      "cell_type": "code",
      "execution_count": 57,
      "metadata": {
        "id": "xT-ivOVwZP5c"
      },
      "outputs": [],
      "source": [
        "word2vec_model = gensim.models.Word2Vec.load('/content/drive/MyDrive/NLP/word2vec_model.model')\n"
      ]
    },
    {
      "cell_type": "code",
      "execution_count": 58,
      "metadata": {
        "colab": {
          "base_uri": "https://localhost:8080/"
        },
        "id": "X4t_8fo5ZRXb",
        "outputId": "3394cd7c-8326-4688-bbe0-82f96335e9a9"
      },
      "outputs": [
        {
          "output_type": "stream",
          "name": "stdout",
          "text": [
            "[ 1.2065066  -1.5498743   4.3290806   1.0235827  -2.1191995  -1.91932\n",
            " -2.627178   -2.0179203   2.7778153   0.6003324  -1.7520316  -1.2726218\n",
            " -0.38420677  0.4580238  -0.74335617  2.7906876  -1.2787054   4.1497583\n",
            " -4.2355137  -0.0926513   2.2251964  -3.625772   -4.4894533  -1.553813\n",
            "  1.0811808   2.416639   -0.82610786 -3.0229242  -2.5270538   1.2096163\n",
            " -2.809983   -1.0944238   0.86705756 -0.3064526   3.830741   -0.86024964\n",
            "  0.6256468   2.1056542   1.5155813  -1.5912137  -1.600227   -2.2993665\n",
            "  2.0102804   0.43171695  0.0521418   0.7106995  -1.5751389   2.0218503\n",
            "  1.6405704   0.79498047  0.5910279  -1.612377    3.2804937   0.7853499\n",
            " -0.21600401 -3.304779   -0.56850135 -0.5327709   0.19682382  1.2346387\n",
            " -0.6314158   2.6147592   0.31772268  1.0094956   1.1704543  -0.82502985\n",
            " -3.0374503  -2.0160258   0.9556052   2.9681206   1.0318193   2.0981019\n",
            " -1.7339318  -2.8082595   1.6445243   0.28596678 -0.31484386 -0.9602643\n",
            " -2.755997   -6.159275   -0.16718331 -1.1541643  -0.9273664   0.28406185\n",
            " -0.55561936  2.3298845   2.3990576  -0.3172749  -0.4118589   2.2541611\n",
            "  2.6206994  -2.6051223  -3.0191119   3.2831628   1.7298458   0.7315454\n",
            " -2.526264    3.5910594  -1.6319789   0.10393571]\n"
          ]
        }
      ],
      "source": [
        "print(word2vec_model.wv['good'] if 'good' in word2vec_model.wv else \"Kelime bulunamadı\")\n"
      ]
    },
    {
      "cell_type": "markdown",
      "source": [
        "## Logistic Regression"
      ],
      "metadata": {
        "id": "rJiF1tfR3nqO"
      }
    },
    {
      "cell_type": "code",
      "execution_count": 59,
      "metadata": {
        "id": "9WV9tYyfZ_Y9"
      },
      "outputs": [],
      "source": [
        "import joblib\n",
        "logistic_model = joblib.load('/content/drive/MyDrive/NLP/llogistic_model.pkl')\n",
        "def sentiment_analysis(text):\n",
        "    vector = text_to_word2vec(text, word2vec_model)\n",
        "    sentiment = logistic_model.predict([vector])[0]\n",
        "    return sentiment\n"
      ]
    },
    {
      "cell_type": "code",
      "execution_count": 60,
      "metadata": {
        "id": "lUfhSSRKGMhU"
      },
      "outputs": [],
      "source": [
        "def text_to_word2vec(text, model):\n",
        "    words = text.split()\n",
        "    vectors = [model.wv[word] for word in words if word in model.wv]\n",
        "    if vectors:\n",
        "        return np.mean(vectors, axis=0)\n",
        "    else:\n",
        "        return np.zeros(model.vector_size)\n"
      ]
    },
    {
      "cell_type": "code",
      "execution_count": 61,
      "metadata": {
        "colab": {
          "base_uri": "https://localhost:8080/"
        },
        "id": "hHjdcN0td1dJ",
        "outputId": "02b9b2d8-2394-4b78-e607-1850f2dd60e6"
      },
      "outputs": [
        {
          "output_type": "stream",
          "name": "stdout",
          "text": [
            "\n",
            "Dataset with Sentiment Labels:\n",
            "                                                text  sentiment_label\n",
            "0  bitcoin unrealized loss must recognized unreal...                2\n",
            "1  hacked nude blockfolio blockfolio btc bitcoin ...                0\n",
            "2  called next btc waking yfi defi btc binance bi...                1\n",
            "3  want create bitcoin seed dice roll time roll d...                1\n",
            "4  bitcoin btc btcusd btc httpstcolamplmodt live ...                0\n"
          ]
        }
      ],
      "source": [
        "\n",
        "merged_df['sentiment_label'] = merged_df['text'].apply(lambda x: sentiment_analysis(x))\n",
        "\n",
        "print(\"\\nDataset with Sentiment Labels:\")\n",
        "print(merged_df[['text', 'sentiment_label']].head())\n"
      ]
    },
    {
      "cell_type": "markdown",
      "source": [
        "## Neural Network"
      ],
      "metadata": {
        "id": "M-yxgzlO350-"
      }
    },
    {
      "cell_type": "code",
      "source": [
        "import tensorflow as tf\n",
        "\n",
        "nn_model = tf.keras.models.load_model('/content/drive/MyDrive/NLP/sentiment_nn_model.h5')\n"
      ],
      "metadata": {
        "colab": {
          "base_uri": "https://localhost:8080/"
        },
        "id": "AuYHnCb6V4ap",
        "outputId": "d080a01f-6762-4164-aed4-e8b4fcafaf12"
      },
      "execution_count": 62,
      "outputs": [
        {
          "output_type": "stream",
          "name": "stderr",
          "text": [
            "WARNING:absl:Compiled the loaded model, but the compiled metrics have yet to be built. `model.compile_metrics` will be empty until you train or evaluate the model.\n"
          ]
        }
      ]
    },
    {
      "cell_type": "code",
      "source": [
        "sentiment_mapping = {0: 'Neutral', 1: 'Bullish', 2: 'Bearish'}\n",
        "\n",
        "# Sentiment Prediction Function\n",
        "def nn_sentiment_analysis(text):\n",
        "    vector = text_to_word2vec(text, word2vec_model)\n",
        "    vector = np.expand_dims(vector, axis=0)\n",
        "    prediction = nn_model.predict(vector, verbose=0)\n",
        "    sentiment = np.argmax(prediction)\n",
        "    return sentiment\n"
      ],
      "metadata": {
        "id": "_AvN0D29a4xZ"
      },
      "execution_count": 63,
      "outputs": []
    },
    {
      "cell_type": "code",
      "source": [
        "# Apply NN Sentiment Analysis to Dataset\n",
        "merged_df['sentiment_label_nn'] = merged_df['text'].apply(lambda x: nn_sentiment_analysis(x))\n",
        "\n",
        "# Map Numeric Labels to Text\n",
        "merged_df['sentiment_label_text_nn'] = merged_df['sentiment_label_nn'].map(sentiment_mapping)\n",
        "\n",
        "print(merged_df[['text', 'sentiment_label_nn', 'sentiment_label_text_nn']].head())\n"
      ],
      "metadata": {
        "colab": {
          "base_uri": "https://localhost:8080/"
        },
        "id": "srWg52csNauU",
        "outputId": "ac38ce7b-8c73-460e-8975-78f78e4858b6"
      },
      "execution_count": 64,
      "outputs": [
        {
          "output_type": "stream",
          "name": "stdout",
          "text": [
            "                                                text  sentiment_label_nn  \\\n",
            "0  bitcoin unrealized loss must recognized unreal...                   2   \n",
            "1  hacked nude blockfolio blockfolio btc bitcoin ...                   0   \n",
            "2  called next btc waking yfi defi btc binance bi...                   1   \n",
            "3  want create bitcoin seed dice roll time roll d...                   1   \n",
            "4  bitcoin btc btcusd btc httpstcolamplmodt live ...                   0   \n",
            "\n",
            "  sentiment_label_text_nn  \n",
            "0                 Bearish  \n",
            "1                 Neutral  \n",
            "2                 Bullish  \n",
            "3                 Bullish  \n",
            "4                 Neutral  \n"
          ]
        }
      ]
    },
    {
      "cell_type": "code",
      "execution_count": 65,
      "metadata": {
        "id": "kEgY5KbIfHYC",
        "colab": {
          "base_uri": "https://localhost:8080/"
        },
        "outputId": "cb6a2594-11c3-424e-8de0-a8a13cccf37c"
      },
      "outputs": [
        {
          "output_type": "execute_result",
          "data": {
            "text/plain": [
              "Index(['user_name', 'user_description', 'user_created', 'user_followers',\n",
              "       'user_friends', 'user_favourites', 'user_verified', 'date', 'text',\n",
              "       'hashtags', 'source', 'is_retweet', 'timestamp', 'open', 'high', 'low',\n",
              "       'close', 'volume', 'quote_asset_volume', 'number_of_trades',\n",
              "       'taker_buy_base_asset_volume', 'taker_buy_quote_asset_volume',\n",
              "       'time_difference', 'sentiment_label', 'sentiment_label_nn',\n",
              "       'sentiment_label_text_nn'],\n",
              "      dtype='object')"
            ]
          },
          "metadata": {},
          "execution_count": 65
        }
      ],
      "source": [
        "merged_df.columns"
      ]
    },
    {
      "cell_type": "code",
      "execution_count": 66,
      "metadata": {
        "colab": {
          "base_uri": "https://localhost:8080/"
        },
        "id": "l4oXEYhefKzn",
        "outputId": "512bb376-b146-4c79-c475-6ff795c2e5c1"
      },
      "outputs": [
        {
          "output_type": "stream",
          "name": "stdout",
          "text": [
            "   sentiment_label sentiment_label_name\n",
            "0                2              Bearish\n",
            "1                0              Neutral\n",
            "2                1              Bullish\n",
            "3                1              Bullish\n",
            "4                0              Neutral\n"
          ]
        }
      ],
      "source": [
        "\n",
        "# Define the mapping dictionary\n",
        "label_mapping = {0: 'Neutral', 1: 'Bullish', 2: 'Bearish'}\n",
        "\n",
        "# Apply mapping to the 'label' column\n",
        "merged_df['sentiment_label_name'] = merged_df['sentiment_label'].map(label_mapping)\n",
        "\n",
        "print(merged_df[['sentiment_label', 'sentiment_label_name']].head())\n"
      ]
    },
    {
      "cell_type": "markdown",
      "source": [
        "## Sentiment Label Distributions"
      ],
      "metadata": {
        "id": "3LoAcghE4EU3"
      }
    },
    {
      "cell_type": "code",
      "execution_count": 67,
      "metadata": {
        "colab": {
          "base_uri": "https://localhost:8080/",
          "height": 758
        },
        "id": "FENIB2fNgbMg",
        "outputId": "0f6da042-a0b5-4108-daad-2faf906ce25b"
      },
      "outputs": [
        {
          "output_type": "stream",
          "name": "stdout",
          "text": [
            "sentiment_label_name\n",
            "Bullish    1220\n",
            "Neutral     642\n",
            "Bearish     553\n",
            "Name: count, dtype: int64\n"
          ]
        },
        {
          "output_type": "stream",
          "name": "stderr",
          "text": [
            "<ipython-input-67-9550adf222ed>:11: FutureWarning: \n",
            "\n",
            "Passing `palette` without assigning `hue` is deprecated and will be removed in v0.14.0. Assign the `x` variable to `hue` and set `legend=False` for the same effect.\n",
            "\n",
            "  sns.countplot(data=merged_df, x='sentiment_label_name', palette='viridis')\n"
          ]
        },
        {
          "output_type": "display_data",
          "data": {
            "text/plain": [
              "<Figure size 1000x600 with 1 Axes>"
            ],
            "image/png": "[encoded data removed]"
          },
          "metadata": {}
        }
      ],
      "source": [
        "# LR Sentiment Label Distribution\n",
        "\n",
        "import seaborn as sns\n",
        "import matplotlib.pyplot as plt\n",
        "\n",
        "# Display distribution\n",
        "print(merged_df['sentiment_label_name'].value_counts())\n",
        "\n",
        "# Plot sentiment distribution\n",
        "plt.figure(figsize=(10, 6))\n",
        "sns.countplot(data=merged_df, x='sentiment_label_name', palette='viridis')\n",
        "plt.title('Sentiment Label Distribution')\n",
        "plt.xlabel('Sentiment Label')\n",
        "plt.ylabel('Count')\n",
        "plt.show()\n"
      ]
    },
    {
      "cell_type": "code",
      "source": [
        "# Neural Network Sentiment Label Distribution\n",
        "\n",
        "import seaborn as sns\n",
        "import matplotlib.pyplot as plt\n",
        "\n",
        "print(merged_df['sentiment_label_text_nn'].value_counts())\n",
        "\n",
        "# Plot sentiment distribution for NN labels\n",
        "plt.figure(figsize=(10, 6))\n",
        "sns.countplot(data=merged_df, x='sentiment_label_text_nn', palette='viridis')\n",
        "plt.title('Neural Network Sentiment Label Distribution')\n",
        "plt.xlabel('Sentiment Label (NN)')\n",
        "plt.ylabel('Count')\n",
        "plt.show()\n"
      ],
      "metadata": {
        "colab": {
          "base_uri": "https://localhost:8080/",
          "height": 758
        },
        "id": "OL4Bl8ylcLnN",
        "outputId": "a8c0700a-96aa-4a5d-c18d-4271c9beebf4"
      },
      "execution_count": 68,
      "outputs": [
        {
          "output_type": "stream",
          "name": "stdout",
          "text": [
            "sentiment_label_text_nn\n",
            "Bullish    1400\n",
            "Neutral     642\n",
            "Bearish     373\n",
            "Name: count, dtype: int64\n"
          ]
        },
        {
          "output_type": "stream",
          "name": "stderr",
          "text": [
            "<ipython-input-68-da8a0c794fde>:10: FutureWarning: \n",
            "\n",
            "Passing `palette` without assigning `hue` is deprecated and will be removed in v0.14.0. Assign the `x` variable to `hue` and set `legend=False` for the same effect.\n",
            "\n",
            "  sns.countplot(data=merged_df, x='sentiment_label_text_nn', palette='viridis')\n"
          ]
        },
        {
          "output_type": "display_data",
          "data": {
            "text/plain": [
              "<Figure size 1000x600 with 1 Axes>"
            ],
            "image/png": "[encoded data removed]"
          },
          "metadata": {}
        }
      ]
    },
    {
      "cell_type": "markdown",
      "metadata": {
        "id": "lHpZnJ2JHQfR"
      },
      "source": [
        "## User Influence Score"
      ]
    },
    {
      "cell_type": "code",
      "execution_count": 69,
      "metadata": {
        "id": "WpDWyYiFGT60"
      },
      "outputs": [],
      "source": [
        "# Influence Score\n",
        "merged_df['user_verified_score'] = merged_df['user_verified'].apply(lambda x: 2 if x else 1)\n",
        "merged_df['is_retweet_score'] = merged_df['is_retweet'].apply(lambda x: 1 if x else 0)\n",
        "# merged_df['user_followers'] = np.log1p(merged_df['user_followers'])\n",
        "\n",
        "merged_df['influence_score'] = (\n",
        "    0.5 * merged_df['user_followers'] +\n",
        "    0.1 * merged_df['user_favourites'] +\n",
        "    0.2 * merged_df['is_retweet_score'] +\n",
        "    0.2 * merged_df['user_verified_score']\n",
        ")\n"
      ]
    },
    {
      "cell_type": "code",
      "execution_count": 70,
      "metadata": {
        "colab": {
          "base_uri": "https://localhost:8080/",
          "height": 458
        },
        "id": "uYyIPzFXnmLO",
        "outputId": "ffc8eb51-7010-4df8-a154-4ec3583e29ab"
      },
      "outputs": [
        {
          "output_type": "execute_result",
          "data": {
            "text/plain": [
              "0       False\n",
              "1       False\n",
              "2       False\n",
              "3       False\n",
              "4       False\n",
              "        ...  \n",
              "2410    False\n",
              "2411    False\n",
              "2412    False\n",
              "2413    False\n",
              "2414    False\n",
              "Name: is_retweet, Length: 2415, dtype: bool"
            ],
            "text/html": [
              "<div>\n",
              "<style scoped>\n",
              "    .dataframe tbody tr th:only-of-type {\n",
              "        vertical-align: middle;\n",
              "    }\n",
              "\n",
              "    .dataframe tbody tr th {\n",
              "        vertical-align: top;\n",
              "    }\n",
              "\n",
              "    .dataframe thead th {\n",
              "        text-align: right;\n",
              "    }\n",
              "</style>\n",
              "<table border=\"1\" class=\"dataframe\">\n",
              "  <thead>\n",
              "    <tr style=\"text-align: right;\">\n",
              "      <th></th>\n",
              "      <th>is_retweet</th>\n",
              "    </tr>\n",
              "  </thead>\n",
              "  <tbody>\n",
              "    <tr>\n",
              "      <th>0</th>\n",
              "      <td>False</td>\n",
              "    </tr>\n",
              "    <tr>\n",
              "      <th>1</th>\n",
              "      <td>False</td>\n",
              "    </tr>\n",
              "    <tr>\n",
              "      <th>2</th>\n",
              "      <td>False</td>\n",
              "    </tr>\n",
              "    <tr>\n",
              "      <th>3</th>\n",
              "      <td>False</td>\n",
              "    </tr>\n",
              "    <tr>\n",
              "      <th>4</th>\n",
              "      <td>False</td>\n",
              "    </tr>\n",
              "    <tr>\n",
              "      <th>...</th>\n",
              "      <td>...</td>\n",
              "    </tr>\n",
              "    <tr>\n",
              "      <th>2410</th>\n",
              "      <td>False</td>\n",
              "    </tr>\n",
              "    <tr>\n",
              "      <th>2411</th>\n",
              "      <td>False</td>\n",
              "    </tr>\n",
              "    <tr>\n",
              "      <th>2412</th>\n",
              "      <td>False</td>\n",
              "    </tr>\n",
              "    <tr>\n",
              "      <th>2413</th>\n",
              "      <td>False</td>\n",
              "    </tr>\n",
              "    <tr>\n",
              "      <th>2414</th>\n",
              "      <td>False</td>\n",
              "    </tr>\n",
              "  </tbody>\n",
              "</table>\n",
              "<p>2415 rows × 1 columns</p>\n",
              "</div><br><label><b>dtype:</b> bool</label>"
            ]
          },
          "metadata": {},
          "execution_count": 70
        }
      ],
      "source": [
        "merged_df['is_retweet']"
      ]
    },
    {
      "cell_type": "code",
      "execution_count": 71,
      "metadata": {
        "colab": {
          "base_uri": "https://localhost:8080/",
          "height": 895
        },
        "id": "7X4z6riKpnIE",
        "outputId": "48b0d72c-7987-4e84-e61e-91dee8a7a42b"
      },
      "outputs": [
        {
          "output_type": "stream",
          "name": "stderr",
          "text": [
            "/usr/local/lib/python3.10/dist-packages/IPython/core/pylabtools.py:151: UserWarning: Glyph 119813 (\\N{MATHEMATICAL BOLD CAPITAL F}) missing from current font.\n",
            "  fig.canvas.print_figure(bytes_io, **kw)\n",
            "/usr/local/lib/python3.10/dist-packages/IPython/core/pylabtools.py:151: UserWarning: Glyph 119842 (\\N{MATHEMATICAL BOLD SMALL I}) missing from current font.\n",
            "  fig.canvas.print_figure(bytes_io, **kw)\n",
            "/usr/local/lib/python3.10/dist-packages/IPython/core/pylabtools.py:151: UserWarning: Glyph 119847 (\\N{MATHEMATICAL BOLD SMALL N}) missing from current font.\n",
            "  fig.canvas.print_figure(bytes_io, **kw)\n",
            "/usr/local/lib/python3.10/dist-packages/IPython/core/pylabtools.py:151: UserWarning: Glyph 119834 (\\N{MATHEMATICAL BOLD SMALL A}) missing from current font.\n",
            "  fig.canvas.print_figure(bytes_io, **kw)\n",
            "/usr/local/lib/python3.10/dist-packages/IPython/core/pylabtools.py:151: UserWarning: Glyph 119859 (\\N{MATHEMATICAL BOLD SMALL Z}) missing from current font.\n",
            "  fig.canvas.print_figure(bytes_io, **kw)\n",
            "/usr/local/lib/python3.10/dist-packages/IPython/core/pylabtools.py:151: UserWarning: Glyph 119852 (\\N{MATHEMATICAL BOLD SMALL S}) missing from current font.\n",
            "  fig.canvas.print_figure(bytes_io, **kw)\n"
          ]
        },
        {
          "output_type": "display_data",
          "data": {
            "text/plain": [
              "<Figure size 1400x800 with 1 Axes>"
            ],
            "image/png": "[encoded data removed]"
          },
          "metadata": {}
        }
      ],
      "source": [
        "import matplotlib.pyplot as plt\n",
        "\n",
        "top_influencers = merged_df.nlargest(10, 'influence_score')[['user_name', 'influence_score']]\n",
        "\n",
        "plt.figure(figsize=(14, 8))\n",
        "bars = plt.barh(\n",
        "    top_influencers['user_name'],\n",
        "    top_influencers['influence_score'],\n",
        "    edgecolor='black'\n",
        ")\n",
        "\n",
        "for bar in bars:\n",
        "    plt.text(\n",
        "        bar.get_width(),\n",
        "        bar.get_y() + bar.get_height()/2,\n",
        "        f'{bar.get_width():.2f}',\n",
        "        va='center'\n",
        "    )\n",
        "\n",
        "plt.title('Top 10 Influential Users with Influence Scores')\n",
        "plt.xlabel('Influence Score')\n",
        "plt.ylabel('User Name')\n",
        "plt.gca().invert_yaxis()\n",
        "plt.show()\n"
      ]
    },
    {
      "cell_type": "markdown",
      "metadata": {
        "id": "obh-Ehgwpm8q"
      },
      "source": []
    },
    {
      "cell_type": "markdown",
      "metadata": {
        "id": "ODX3_k89MGpf"
      },
      "source": [
        "### BTC PRICE GUESS"
      ]
    },
    {
      "cell_type": "code",
      "execution_count": 72,
      "metadata": {
        "id": "Nj6uq1C1MEqd"
      },
      "outputs": [],
      "source": [
        "merged_df['price_trend'] = merged_df.apply(\n",
        "    lambda row: 'up' if row['close'] > row['open'] else ('down' if row['close'] < row['open'] else 'neutral'),\n",
        "    axis=1\n",
        ")\n"
      ]
    },
    {
      "cell_type": "code",
      "execution_count": 73,
      "metadata": {
        "id": "aUFYLrvXNBhi"
      },
      "outputs": [],
      "source": [
        "def check_prediction(row):\n",
        "    if row['sentiment_label'] == 1 and row['price_trend'] == 'up':\n",
        "        return 'correct'\n",
        "    elif row['sentiment_label'] == 2 and row['price_trend'] == 'down':\n",
        "        return 'correct'\n",
        "    elif row['sentiment_label'] == 0 and row['price_trend'] == 'neutral':\n",
        "        return 'correct'\n",
        "    else:\n",
        "        return 'wrong'\n",
        "\n",
        "merged_df['prediction_accuracy'] = merged_df.apply(check_prediction, axis=1)\n"
      ]
    },
    {
      "cell_type": "code",
      "source": [
        "\n",
        "def check_prediction_nn(row):\n",
        "    if row['sentiment_label_nn'] == 1 and row['price_trend'] == 'up':\n",
        "        return 'correct'\n",
        "    elif row['sentiment_label_nn'] == 2 and row['price_trend'] == 'down':\n",
        "        return 'correct'\n",
        "    elif row['sentiment_label_nn'] == 0 and row['price_trend'] == 'neutral':\n",
        "        return 'correct'\n",
        "    else:\n",
        "        return 'wrong'\n",
        "\n",
        "merged_df['prediction_accuracy_nn'] = merged_df.apply(check_prediction_nn, axis=1)\n",
        "\n",
        "print(merged_df['prediction_accuracy_nn'].value_counts())\n",
        "\n",
        "\n",
        "import seaborn as sns\n",
        "import matplotlib.pyplot as plt\n",
        "\n",
        "plt.figure(figsize=(10, 6))\n",
        "sns.countplot(data=merged_df, x='prediction_accuracy_nn', palette='viridis')\n",
        "plt.title('Neural Network Prediction Accuracy Distribution')\n",
        "plt.xlabel('Prediction Accuracy (NN)')\n",
        "plt.ylabel('Count')\n",
        "plt.show()\n"
      ],
      "metadata": {
        "colab": {
          "base_uri": "https://localhost:8080/",
          "height": 740
        },
        "id": "cJi753eecbxj",
        "outputId": "485bdd9e-83cb-4f9b-ba26-4c9504da4d62"
      },
      "execution_count": 74,
      "outputs": [
        {
          "output_type": "stream",
          "name": "stdout",
          "text": [
            "prediction_accuracy_nn\n",
            "wrong      1543\n",
            "correct     872\n",
            "Name: count, dtype: int64\n"
          ]
        },
        {
          "output_type": "stream",
          "name": "stderr",
          "text": [
            "<ipython-input-74-92385ff8e6a3>:20: FutureWarning: \n",
            "\n",
            "Passing `palette` without assigning `hue` is deprecated and will be removed in v0.14.0. Assign the `x` variable to `hue` and set `legend=False` for the same effect.\n",
            "\n",
            "  sns.countplot(data=merged_df, x='prediction_accuracy_nn', palette='viridis')\n"
          ]
        },
        {
          "output_type": "display_data",
          "data": {
            "text/plain": [
              "<Figure size 1000x600 with 1 Axes>"
            ],
            "image/png": "[encoded data removed]"
          },
          "metadata": {}
        }
      ]
    },
    {
      "cell_type": "code",
      "execution_count": 75,
      "metadata": {
        "colab": {
          "base_uri": "https://localhost:8080/"
        },
        "id": "JE9JEqnqPOmk",
        "outputId": "82aea84d-fd81-4512-d5af-c4d258b10afc"
      },
      "outputs": [
        {
          "output_type": "stream",
          "name": "stdout",
          "text": [
            "  Prediction Accuracy  Count\n",
            "0               wrong   1528\n",
            "1             correct    887\n"
          ]
        }
      ],
      "source": [
        "prediction_counts = merged_df['prediction_accuracy'].value_counts().reset_index()\n",
        "prediction_counts.columns = ['Prediction Accuracy', 'Count']\n",
        "\n",
        "print(prediction_counts)\n"
      ]
    },
    {
      "cell_type": "code",
      "source": [
        "\n",
        "prediction_counts_nn = merged_df['prediction_accuracy_nn'].value_counts().reset_index()\n",
        "prediction_counts_nn.columns = ['Prediction Accuracy (NN)', 'Count']\n",
        "\n",
        "print(\"\\nNeural Network Prediction Accuracy Counts:\")\n",
        "print(prediction_counts_nn)\n"
      ],
      "metadata": {
        "colab": {
          "base_uri": "https://localhost:8080/"
        },
        "id": "xNw2tGJScn9O",
        "outputId": "306e1402-987f-4d19-cec1-a2f610edb96d"
      },
      "execution_count": 76,
      "outputs": [
        {
          "output_type": "stream",
          "name": "stdout",
          "text": [
            "\n",
            "Neural Network Prediction Accuracy Counts:\n",
            "  Prediction Accuracy (NN)  Count\n",
            "0                    wrong   1543\n",
            "1                  correct    872\n"
          ]
        }
      ]
    },
    {
      "cell_type": "code",
      "execution_count": 77,
      "metadata": {
        "colab": {
          "base_uri": "https://localhost:8080/"
        },
        "id": "Si_Lt3ABPlfY",
        "outputId": "8c85ca5f-b014-44c0-d562-e1d4b1e0890a"
      },
      "outputs": [
        {
          "output_type": "stream",
          "name": "stdout",
          "text": [
            "Correct Tahminlerin Ortalama Influence Score'u: 1065.81\n",
            "Wrong Tahminlerin Ortalama Influence Score'u: 973.32\n"
          ]
        }
      ],
      "source": [
        "correct_avg_influence = merged_df[merged_df['prediction_accuracy'] == 'correct']['influence_score'].mean()\n",
        "wrong_avg_influence = merged_df[merged_df['prediction_accuracy'] == 'wrong']['influence_score'].mean()\n",
        "\n",
        "print(f\"Correct Tahminlerin Ortalama Influence Score'u: {correct_avg_influence:.2f}\")\n",
        "print(f\"Wrong Tahminlerin Ortalama Influence Score'u: {wrong_avg_influence:.2f}\")\n"
      ]
    },
    {
      "cell_type": "code",
      "execution_count": 78,
      "metadata": {
        "colab": {
          "base_uri": "https://localhost:8080/"
        },
        "id": "cxfNFhvEr9DS",
        "outputId": "78f4c32f-0612-49c1-f4e6-1633f43d2346"
      },
      "outputs": [
        {
          "output_type": "execute_result",
          "data": {
            "text/plain": [
              "Index(['user_name', 'user_description', 'user_created', 'user_followers',\n",
              "       'user_friends', 'user_favourites', 'user_verified', 'date', 'text',\n",
              "       'hashtags', 'source', 'is_retweet', 'timestamp', 'open', 'high', 'low',\n",
              "       'close', 'volume', 'quote_asset_volume', 'number_of_trades',\n",
              "       'taker_buy_base_asset_volume', 'taker_buy_quote_asset_volume',\n",
              "       'time_difference', 'sentiment_label', 'sentiment_label_nn',\n",
              "       'sentiment_label_text_nn', 'sentiment_label_name',\n",
              "       'user_verified_score', 'is_retweet_score', 'influence_score',\n",
              "       'price_trend', 'prediction_accuracy', 'prediction_accuracy_nn'],\n",
              "      dtype='object')"
            ]
          },
          "metadata": {},
          "execution_count": 78
        }
      ],
      "source": [
        "merged_df.columns"
      ]
    },
    {
      "cell_type": "code",
      "execution_count": 79,
      "metadata": {
        "colab": {
          "base_uri": "https://localhost:8080/",
          "height": 545
        },
        "id": "qY84lhc_Po9R",
        "outputId": "8c086556-eaaa-4f73-e4b2-accf2a71271b"
      },
      "outputs": [
        {
          "output_type": "display_data",
          "data": {
            "text/plain": [
              "<Figure size 800x600 with 1 Axes>"
            ],
            "image/png": "[encoded data removed]"
          },
          "metadata": {}
        }
      ],
      "source": [
        "import matplotlib.pyplot as plt\n",
        "\n",
        "avg_scores = {\n",
        "    'Correct': correct_avg_influence,\n",
        "    'Wrong': wrong_avg_influence\n",
        "}\n",
        "\n",
        "plt.figure(figsize=(8, 6))\n",
        "plt.bar(avg_scores.keys(), avg_scores.values())\n",
        "plt.title('Correct ve Wrong Tahminlerin Ortalama Influence Score Karşılaştırması')\n",
        "plt.ylabel('Ortalama Influence Score')\n",
        "plt.show()\n"
      ]
    },
    {
      "cell_type": "code",
      "execution_count": 87,
      "metadata": {
        "id": "q15leysQPFmm",
        "colab": {
          "base_uri": "https://localhost:8080/"
        },
        "outputId": "27b63258-6d27-4c0f-84b9-157e6f3a0972"
      },
      "outputs": [
        {
          "output_type": "stream",
          "name": "stdout",
          "text": [
            "        user_name sentiment_label_name prediction_accuracy  user_trust\n",
            "0  Michael Arouet              Bearish               wrong  dont_trust\n",
            "1       athcrypt℗              Neutral               wrong  dont_trust\n",
            "2     Wickhunterr              Bullish               wrong  dont_trust\n",
            "3           Kayth              Bullish               wrong  dont_trust\n",
            "4  The 1 i Am Neo              Neutral             correct       trust\n",
            "        user_name sentiment_label_text_nn prediction_accuracy_nn user_trust_nn\n",
            "0  Michael Arouet                 Bearish                  wrong    dont_trust\n",
            "1       athcrypt℗                 Neutral                  wrong    dont_trust\n",
            "2     Wickhunterr                 Bullish                  wrong    dont_trust\n",
            "3           Kayth                 Bullish                  wrong    dont_trust\n",
            "4  The 1 i Am Neo                 Neutral                correct         trust\n"
          ]
        }
      ],
      "source": [
        "# Define Trust Mapping Function\n",
        "def user_trust_label(row):\n",
        "    if row['prediction_accuracy'] == 'correct':\n",
        "        return 'trust'\n",
        "    else:\n",
        "        return 'dont_trust'\n",
        "\n",
        "def user_trust_label_nn(row):\n",
        "    if row['prediction_accuracy_nn'] == 'correct':\n",
        "        return 'trust'\n",
        "    else:\n",
        "        return 'dont_trust'\n",
        "\n",
        "# Apply Trust Labels\n",
        "merged_df['user_trust'] = merged_df.apply(user_trust_label, axis=1)\n",
        "merged_df['user_trust_nn'] = merged_df.apply(user_trust_label_nn, axis=1)\n",
        "\n",
        "print(merged_df[['user_name', 'sentiment_label_name', 'prediction_accuracy', 'user_trust']].head())\n",
        "print(merged_df[['user_name', 'sentiment_label_text_nn', 'prediction_accuracy_nn', 'user_trust_nn']].head())\n"
      ]
    },
    {
      "cell_type": "code",
      "source": [
        "plt.figure(figsize=(12, 6))\n",
        "sns.countplot(data=merged_df, x='user_trust', palette='viridis')\n",
        "plt.title('User Trust Distribution (Logistic Regression)')\n",
        "plt.xlabel('Trust Label')\n",
        "plt.ylabel('Number of Users')\n",
        "plt.show()\n",
        "\n",
        "plt.figure(figsize=(12, 6))\n",
        "sns.countplot(data=merged_df, x='user_trust_nn', palette='plasma')\n",
        "plt.title('User Trust Distribution (Neural Network)')\n",
        "plt.xlabel('Trust Label')\n",
        "plt.ylabel('Number of Users')\n",
        "plt.show()\n"
      ],
      "metadata": {
        "colab": {
          "base_uri": "https://localhost:8080/",
          "height": 1000
        },
        "id": "3SMpaT6sf4uF",
        "outputId": "1147f2eb-99a4-4cf1-a1b4-3b2048f4172a"
      },
      "execution_count": 88,
      "outputs": [
        {
          "output_type": "stream",
          "name": "stderr",
          "text": [
            "<ipython-input-88-016fbd52d996>:2: FutureWarning: \n",
            "\n",
            "Passing `palette` without assigning `hue` is deprecated and will be removed in v0.14.0. Assign the `x` variable to `hue` and set `legend=False` for the same effect.\n",
            "\n",
            "  sns.countplot(data=merged_df, x='user_trust', palette='viridis')\n"
          ]
        },
        {
          "output_type": "display_data",
          "data": {
            "text/plain": [
              "<Figure size 1200x600 with 1 Axes>"
            ],
            "image/png": "[encoded data removed]"
          },
          "metadata": {}
        },
        {
          "output_type": "stream",
          "name": "stderr",
          "text": [
            "<ipython-input-88-016fbd52d996>:9: FutureWarning: \n",
            "\n",
            "Passing `palette` without assigning `hue` is deprecated and will be removed in v0.14.0. Assign the `x` variable to `hue` and set `legend=False` for the same effect.\n",
            "\n",
            "  sns.countplot(data=merged_df, x='user_trust_nn', palette='plasma')\n"
          ]
        },
        {
          "output_type": "display_data",
          "data": {
            "text/plain": [
              "<Figure size 1200x600 with 1 Axes>"
            ],
            "image/png": "[encoded data removed]"
          },
          "metadata": {}
        }
      ]
    },
    {
      "cell_type": "markdown",
      "source": [
        "## **Extra(This part is not part of the project)**"
      ],
      "metadata": {
        "id": "dTrBjV0A5h8d"
      }
    },
    {
      "cell_type": "markdown",
      "source": [
        "## LSTM FOR BTC"
      ],
      "metadata": {
        "id": "8dDZ9tLK5Vzk"
      }
    },
    {
      "cell_type": "code",
      "source": [
        "price_df_subset = price_df.sample(n=100000, random_state=42).sort_index()\n"
      ],
      "metadata": {
        "id": "VUErPJ7s6QO-"
      },
      "execution_count": 80,
      "outputs": []
    },
    {
      "cell_type": "code",
      "source": [
        "from sklearn.preprocessing import MinMaxScaler\n",
        "import numpy as np\n",
        "\n",
        "scaler = MinMaxScaler()\n",
        "price_df_subset['scaled_close'] = scaler.fit_transform(price_df_subset[['close']])\n",
        "\n",
        "train_size = int(len(price_df_subset) * 0.8)\n",
        "train, test = price_df_subset[:train_size], price_df_subset[train_size:]\n",
        "\n",
        "def create_sequences(data, seq_length):\n",
        "    X, y = [], []\n",
        "    for i in range(len(data) - seq_length):\n",
        "        X.append(data[i:i+seq_length])\n",
        "        y.append(data[i+seq_length])\n",
        "    return np.array(X), np.array(y)\n",
        "\n",
        "seq_length = 10\n",
        "X_train, y_train = create_sequences(train['scaled_close'].values, seq_length)\n",
        "X_test, y_test = create_sequences(test['scaled_close'].values, seq_length)\n",
        "\n",
        "X_train = X_train.reshape((X_train.shape[0], X_train.shape[1], 1))\n",
        "X_test = X_test.reshape((X_test.shape[0], X_test.shape[1], 1))\n"
      ],
      "metadata": {
        "id": "8slGdg0H5XuS"
      },
      "execution_count": 81,
      "outputs": []
    },
    {
      "cell_type": "code",
      "source": [
        "from tensorflow.keras.models import Sequential\n",
        "from tensorflow.keras.layers import LSTM, Dense\n",
        "\n",
        "model = Sequential([\n",
        "    LSTM(50, activation='relu', input_shape=(seq_length, 1)),\n",
        "    Dense(1)\n",
        "])\n",
        "\n",
        "model.compile(optimizer='adam', loss='mean_squared_error')\n",
        "\n",
        "history = model.fit(X_train, y_train, epochs=10, batch_size=32, validation_split=0.1)\n"
      ],
      "metadata": {
        "colab": {
          "base_uri": "https://localhost:8080/"
        },
        "id": "BVoXfFGG6USV",
        "outputId": "ff8e5c22-acbe-44c6-abd7-79adda16ad07"
      },
      "execution_count": 82,
      "outputs": [
        {
          "output_type": "stream",
          "name": "stdout",
          "text": [
            "Epoch 1/10\n"
          ]
        },
        {
          "output_type": "stream",
          "name": "stderr",
          "text": [
            "/usr/local/lib/python3.10/dist-packages/keras/src/layers/rnn/rnn.py:204: UserWarning: Do not pass an `input_shape`/`input_dim` argument to a layer. When using Sequential models, prefer using an `Input(shape)` object as the first layer in the model instead.\n",
            "  super().__init__(**kwargs)\n"
          ]
        },
        {
          "output_type": "stream",
          "name": "stdout",
          "text": [
            "\u001b[1m2250/2250\u001b[0m \u001b[32m━━━━━━━━━━━━━━━━━━━━\u001b[0m\u001b[37m\u001b[0m \u001b[1m11s\u001b[0m 4ms/step - loss: 0.0076 - val_loss: 4.3868e-06\n",
            "Epoch 2/10\n",
            "\u001b[1m2250/2250\u001b[0m \u001b[32m━━━━━━━━━━━━━━━━━━━━\u001b[0m\u001b[37m\u001b[0m \u001b[1m7s\u001b[0m 3ms/step - loss: 2.4351e-05 - val_loss: 1.3620e-06\n",
            "Epoch 3/10\n",
            "\u001b[1m2250/2250\u001b[0m \u001b[32m━━━━━━━━━━━━━━━━━━━━\u001b[0m\u001b[37m\u001b[0m \u001b[1m8s\u001b[0m 3ms/step - loss: 2.2304e-05 - val_loss: 1.2356e-05\n",
            "Epoch 4/10\n",
            "\u001b[1m2250/2250\u001b[0m \u001b[32m━━━━━━━━━━━━━━━━━━━━\u001b[0m\u001b[37m\u001b[0m \u001b[1m8s\u001b[0m 3ms/step - loss: 1.8202e-05 - val_loss: 2.0600e-05\n",
            "Epoch 5/10\n",
            "\u001b[1m2250/2250\u001b[0m \u001b[32m━━━━━━━━━━━━━━━━━━━━\u001b[0m\u001b[37m\u001b[0m \u001b[1m9s\u001b[0m 3ms/step - loss: 1.6647e-05 - val_loss: 1.4534e-05\n",
            "Epoch 6/10\n",
            "\u001b[1m2250/2250\u001b[0m \u001b[32m━━━━━━━━━━━━━━━━━━━━\u001b[0m\u001b[37m\u001b[0m \u001b[1m11s\u001b[0m 3ms/step - loss: 1.5106e-05 - val_loss: 2.2205e-06\n",
            "Epoch 7/10\n",
            "\u001b[1m2250/2250\u001b[0m \u001b[32m━━━━━━━━━━━━━━━━━━━━\u001b[0m\u001b[37m\u001b[0m \u001b[1m11s\u001b[0m 3ms/step - loss: 1.3258e-05 - val_loss: 4.5192e-06\n",
            "Epoch 8/10\n",
            "\u001b[1m2250/2250\u001b[0m \u001b[32m━━━━━━━━━━━━━━━━━━━━\u001b[0m\u001b[37m\u001b[0m \u001b[1m7s\u001b[0m 3ms/step - loss: 1.1880e-05 - val_loss: 5.0474e-07\n",
            "Epoch 9/10\n",
            "\u001b[1m2250/2250\u001b[0m \u001b[32m━━━━━━━━━━━━━━━━━━━━\u001b[0m\u001b[37m\u001b[0m \u001b[1m8s\u001b[0m 3ms/step - loss: 1.1384e-05 - val_loss: 5.2595e-06\n",
            "Epoch 10/10\n",
            "\u001b[1m2250/2250\u001b[0m \u001b[32m━━━━━━━━━━━━━━━━━━━━\u001b[0m\u001b[37m\u001b[0m \u001b[1m7s\u001b[0m 3ms/step - loss: 1.0754e-05 - val_loss: 1.6635e-05\n"
          ]
        }
      ]
    },
    {
      "cell_type": "code",
      "source": [
        "predictions = model.predict(X_test)\n",
        "predictions = scaler.inverse_transform(predictions)\n",
        "\n",
        "import matplotlib.pyplot as plt\n",
        "\n",
        "plt.figure(figsize=(14, 6))\n",
        "plt.plot(test.index[seq_length:], scaler.inverse_transform(test['scaled_close'][seq_length:].values.reshape(-1, 1)), label='Gerçek')\n",
        "plt.plot(test.index[seq_length:], predictions, label='Tahmin')\n",
        "plt.legend()\n",
        "plt.title('LSTM Bitcoin Price Guess')\n",
        "plt.show()\n"
      ],
      "metadata": {
        "colab": {
          "base_uri": "https://localhost:8080/",
          "height": 580
        },
        "id": "8vFEK3eH6WDL",
        "outputId": "399bf75c-948d-4c37-c011-140f1ee5c91d"
      },
      "execution_count": 83,
      "outputs": [
        {
          "output_type": "stream",
          "name": "stdout",
          "text": [
            "\u001b[1m625/625\u001b[0m \u001b[32m━━━━━━━━━━━━━━━━━━━━\u001b[0m\u001b[37m\u001b[0m \u001b[1m2s\u001b[0m 3ms/step\n"
          ]
        },
        {
          "output_type": "display_data",
          "data": {
            "text/plain": [
              "<Figure size 1400x600 with 1 Axes>"
            ],
            "image/png": "[encoded data removed]"
          },
          "metadata": {}
        }
      ]
    }
  ],
  "metadata": {
    "accelerator": "GPU",
    "colab": {
      "gpuType": "T4",
      "provenance": [],
      "mount_file_id": "15dgLuGt8J8RhJYJLc_w4X_9yKUv3mlrs",
      "authorship_tag": "ABX9TyMZ/Mu58Srcb7sgCey7TkNY",
      "include_colab_link": true
    },
    "kernelspec": {
      "display_name": "Python 3",
      "name": "python3"
    },
    "language_info": {
      "name": "python"
    }
  },
  "nbformat": 4,
  "nbformat_minor": 0
}